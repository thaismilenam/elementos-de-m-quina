{
 "cells": [
  {
   "cell_type": "code",
   "execution_count": 264,
   "metadata": {},
   "outputs": [],
   "source": [
    "from numpy import sqrt, sin, cos, tan, radians, pi, sqrt, interp\n",
    "import numpy as np\n",
    "import matplotlib.pyplot as plt\n",
    "import pandas as pd"
   ]
  },
  {
   "cell_type": "markdown",
   "metadata": {},
   "source": [
    "# Cálculo das engrenagens"
   ]
  },
  {
   "cell_type": "code",
   "execution_count": 265,
   "metadata": {},
   "outputs": [
    {
     "name": "stdout",
     "output_type": "stream",
     "text": [
      "Em rad/s: ωp = 123.56931104119853 ωc = 7.5398223686155035\n",
      "mg intermediária = 16.38888888888889\n",
      "mg entrada e saida = 4.0483192671637065\n",
      "passo diametral 0.3333333333333333\n",
      "a = 3 b = 0.75 pc = 9.42477796076938 pb = 8.856394302280648 \n",
      "pd = 0.3333333333333333 Fc = 36 Fp = 45\n",
      "\n",
      "pinhão\n",
      "Diâmetro primitivo do pinhão = 63 \n",
      "Diâmetro externo do pinhão = 69 \n",
      "Diâmetro raiz do pinhão = 61.5 \n",
      "Velocidade linear do pinhão 407.6146617649905\n",
      "\n",
      "coroa\n",
      "Diâmetro primitivo da coroa = 255 \n",
      "Diâmetro externo da coroa = 261 \n",
      "Diâmetro raiz da coroa = 253.5 \n",
      "Velocidade linear da coroa 100.66996489111145\n"
     ]
    }
   ],
   "source": [
    "Pe = 30000                      #W\n",
    "ωp = (1180*2*pi)/60                #rpm  escolhido no motor elétrico (entrada) - rad/s\n",
    "Ps = 29400                      #W  \n",
    "ωc = (72*2*pi)/60                  #rpm (saída) -> rad/s\n",
    "print(\"Em rad/s: ωp =\", ωp, \"ωc =\", ωc)\n",
    "\n",
    "mg1 = (ωp/ωc)\n",
    "print(\"mg intermediária =\", mg1)\n",
    "mg2 = sqrt(mg1)\n",
    "print(\"mg entrada e saida =\",mg2)\n",
    "\n",
    "Tent = Ps/ωp  #torque entrada\n",
    "Tsai = Ps/ωc  #torque saida\n",
    "\n",
    "Nc = 85\n",
    "Np = 21\n",
    "\n",
    "m = 3  #adotado\n",
    "pd = 1/m\n",
    "theta = 20   \n",
    "print(\"passo diametral\", pd)\n",
    "\n",
    "a = m                           #adendo\n",
    "b = 0.25*m                      #dedendo\n",
    "pc = pi*m                       #passo circular\n",
    "pb = pc*cos(radians(theta))     #passo de base\n",
    "Fc = 12*m                       #largura da face 6 a 16*m  \n",
    "Fp = 15*m\n",
    "\n",
    "print(\"a =\", a, \"b =\", b, \"pc =\", pc, \"pb =\", pb, \"\\npd =\", pd, \"Fc =\", Fc,  \"Fp =\", Fp)\n",
    "\n",
    "\"\"\"*pinhão*\"\"\"\n",
    "print(\"\\npinhão\")\n",
    "\n",
    "dpp = m*Np               #diâmetro primitivo\n",
    "dep = dpp + a*2          #diametro externo A = adendo, dp = diam. prim.\n",
    "drp = dpp - 2*b          #diametro raiz D = dedendo, dr = diam. raiz\n",
    "Vp = (pi*ωp/30)*(dpp/2)  #velocidade linear\n",
    "print(\"Diâmetro primitivo do pinhão =\", dpp, \"\\nDiâmetro externo do pinhão =\", dep, \"\\nDiâmetro raiz do pinhão =\", drp, \"\\nVelocidade linear do pinhão\", Vp)\n",
    "\n",
    "\"\"\"*coroa*\"\"\"\n",
    "print(\"\\ncoroa\")\n",
    "\n",
    "dpc = m*Nc               #diâmetro primitivo\n",
    "dec = dpc + a*2          #diametro externo A = adendo, dp = diam. prim.\n",
    "drc = dpc - 2*b          #diametro raiz D = dedendo, dr = diam. raiz\n",
    "dbc = dpc*cos(radians(theta))\n",
    "Vc = (pi*ωc/30)*(dpc/2)  #velocidade linear\n",
    "print(\"Diâmetro primitivo da coroa =\", dpc, \"\\nDiâmetro externo da coroa =\", dec, \"\\nDiâmetro raiz da coroa =\", drc, \"\\nVelocidade linear da coroa\", Vc)"
   ]
  },
  {
   "cell_type": "code",
   "execution_count": 266,
   "metadata": {},
   "outputs": [
    {
     "name": "stdout",
     "output_type": "stream",
     "text": [
      "*pinhão 1*\n",
      "Torque = 237.92315221534184 Carga Tangencial = 7.553115943344186 Carga Radial = 2.7491093793387713 Carga Resultante = 8.037858099840314\n",
      "*coroa 1*\n",
      "Torque = 963.1888812176917 Carga Tangencial = 7.554422597785817 Carga Radial = 2.749584962661997 Carga Resultante = 8.039248612453404\n",
      "*pinhão 2*\n",
      "Torque = 963.1888812176917 Carga Tangencial = 7.553115943344186 Carga Radial = 2.7491093793387713 Carga Resultante = 8.037858099840314\n",
      "*coroa 2*\n",
      "Torque = 3899.296105751436 Carga Tangencial = 30.58271455491322 Carga Radial = 11.131197781048161 Carga Resultante = 32.5454450513142\n"
     ]
    }
   ],
   "source": [
    "print('*pinhão 1*')\n",
    "\n",
    "Tp1 = Tent             #torque\n",
    "Wtp1 = Tp1/(dpp/2)     #carga transmitida\n",
    "Wrp1 = Wtp1*tan(radians(theta))\n",
    "Wp1 = Wtp1/cos(radians(theta))\n",
    "print (\"Torque =\", Tp1, \"Carga Tangencial =\", Wtp1, \"Carga Radial =\", Wrp1, \"Carga Resultante =\", Wp1)\n",
    "\n",
    "print('*coroa 1*')\n",
    "\n",
    "Tc1 = Tp1*mg2            #torque\n",
    "Wtc1 = Tc1/(dpc/2) #carga transmitida\n",
    "Wrc1 = Wtc1*tan(radians(theta))\n",
    "Wc1 = Wtc1/cos(radians(theta))\n",
    "print (\"Torque =\", Tc1, \"Carga Tangencial =\", Wtc1, \"Carga Radial =\", Wrc1, \"Carga Resultante =\", Wc1)\n",
    "\n",
    "print('*pinhão 2*')\n",
    "\n",
    "Tp2 = Tc1             #torque\n",
    "Wtp2 = Tp1/(dpp/2) #carga transmitida\n",
    "Wrp2 = Wtp2*tan(radians(theta))\n",
    "Wp2 = Wtp2/cos(radians(theta))\n",
    "print (\"Torque =\", Tp2, \"Carga Tangencial =\", Wtp2, \"Carga Radial =\", Wrp2, \"Carga Resultante =\", Wp2)\n",
    "\n",
    "print('*coroa 2*')\n",
    "\n",
    "Tc2 = Tp1*mg1            #torque\n",
    "Wtc2 = Tc2/(dpc/2)      #carga transmitida\n",
    "Wrc2 = Wtc2*tan(radians(theta))\n",
    "Wc2 = Wtc2/cos(radians(theta))\n",
    "print (\"Torque =\", Tc2, \"Carga Tangencial =\", Wtc2, \"Carga Radial =\", Wrc2, \"Carga Resultante =\", Wc2)"
   ]
  },
  {
   "cell_type": "code",
   "execution_count": 276,
   "metadata": {},
   "outputs": [],
   "source": [
    "d = 0.053\n",
    "g = 0.1235\n",
    "j = 0.181"
   ]
  },
  {
   "cell_type": "markdown",
   "metadata": {},
   "source": [
    "# Cálculo de elementos finitos - reações nos planos"
   ]
  },
  {
   "cell_type": "code",
   "execution_count": 268,
   "metadata": {},
   "outputs": [
    {
     "name": "stdout",
     "output_type": "stream",
     "text": [
      "R1y + R2y = 5.498694342000768\n",
      "R1y = 2.8177937267000823 R2y = 2.6809006153006854\n",
      "R1x + R2x = -0.0013066544416311388\n",
      "R1x = 2.55711742862862 R2x = 2.9415769133721477\n"
     ]
    }
   ],
   "source": [
    "#plano xy calculos\n",
    "somareacaoxy = Wrc1 + Wrp2\n",
    "print(\"R1y + R2y =\", somareacaoxy)\n",
    "\n",
    "R2y = (Wrc1*d + Wrp2*g)/j\n",
    "R1y = somareacaoxy - R2y\n",
    "print(\"R1y =\", R1y, \"R2y =\", R2y)\n",
    "\n",
    "#plano xz calculos\n",
    "somareacaoxz = Wtp2 - Wtc1\n",
    "print(\"R1x + R2x =\", somareacaoxz)\n",
    "\n",
    "R2x = (Wtp2*g - Wtc1*d)/j\n",
    "R1x = somareacaoxy - R2x\n",
    "print(\"R1x =\", R1x, \"R2x =\", R2x)"
   ]
  },
  {
   "cell_type": "markdown",
   "metadata": {},
   "source": [
    "# Cálculo de cortante, momento e torque - xy"
   ]
  },
  {
   "cell_type": "code",
   "execution_count": 269,
   "metadata": {},
   "outputs": [
    {
     "name": "stdout",
     "output_type": "stream",
     "text": [
      "V1y -2.8177937267000823\n",
      "M1y = 2.8177937267000823 * x,  0<x<0.053\n",
      "\n",
      "V2y -0.06820876403808551\n",
      "M2y = 0.14572800302108582 + 0.06820876403808551 * x,  0.053<x<0.1235\n",
      "\n",
      "V3y 2.6809006153006854\n",
      "M3y = 0.14572800302108582 + 0.33951500834833825 - 2.6809006153006854 * x\n",
      "M3y = 0.48524301136942405 - 2.6809006153006854 * x,  0.1235<x<0.181\n",
      "\n"
     ]
    }
   ],
   "source": [
    "V1y = -R1y\n",
    "print(\"V1y\", V1y)\n",
    "print(\"M1y =\", -V1y,\"* x,  0<x<0.053\\n\")\n",
    "\n",
    "V2y = Wrc1 - R1y\n",
    "print(\"V2y\", V2y)\n",
    "print(\"M2y =\", Wrc1*d, \"+\", -V2y, \"* x,  0.053<x<0.1235\\n\")\n",
    "\n",
    "V3y = Wrc1  + Wrp2 - R1y\n",
    "print(\"V3y\", V3y)\n",
    "print(\"M3y =\", Wrc1*d, \"+\", Wrp2*g, \"-\", V3y, \"* x\")\n",
    "print(\"M3y =\", Wrc1*d + Wrp2*g, \"-\", V3y, \"* x,  0.1235<x<0.181\\n\")"
   ]
  },
  {
   "cell_type": "code",
   "execution_count": 270,
   "metadata": {},
   "outputs": [
    {
     "name": "stdout",
     "output_type": "stream",
     "text": [
      "0 M1y = 0.0\n",
      "0,053 M1y = 0.14934306751510437\n",
      "0,053 M2y = 0.14934306751510434\n",
      "0,123 M2y = 0.15415178537978938\n",
      "0,123 M3y = 0.1541517853797894\n",
      "0,181 M3y = 0.0\n"
     ]
    }
   ],
   "source": [
    "#momento nos pontos criticos\n",
    "print(\"0 M1y =\", 2.8177937267000823 * 0)\n",
    "print(\"0,053 M1y =\", 2.8177937267000823 * d)\n",
    "print(\"0,053 M2y =\", 0.14572800302108582 + 0.06820876403808551* d)\n",
    "print(\"0,123 M2y =\", 0.14572800302108582 + 0.06820876403808551* g)\n",
    "print(\"0,123 M3y =\", 0.48524301136942405 - 2.6809006153006854 * g)\n",
    "print(\"0,181 M3y =\", 0.48524301136942405 - 2.6809006153006854 * j)"
   ]
  },
  {
   "cell_type": "markdown",
   "metadata": {},
   "source": [
    "![M1y](proj_av1/M1y.png)\n",
    "![M2y](proj_av1/M2y.png)\n",
    "![M3y](proj_av1/M3y.png)"
   ]
  },
  {
   "cell_type": "markdown",
   "metadata": {},
   "source": [
    "# Cálculo de cortante, momento e torque - xz"
   ]
  },
  {
   "cell_type": "code",
   "execution_count": 271,
   "metadata": {},
   "outputs": [
    {
     "name": "stdout",
     "output_type": "stream",
     "text": [
      "V1x = -2.55711742862862\n",
      "M1x = 2.55711742862862 * x,  0<x<0.053\n",
      "\n",
      "V2x = -10.111540026414437\n",
      "M2x =  -0.4003843976826483 + 10.111540026414437 * x,  0.053<x<0.1235\n",
      "\n",
      "V3x = -7.362430647075666\n",
      "M3x = -0.4003843976826483 + 0.33951500834833825 + 7.362430647075666 * x\n",
      "M3x = -0.06086938933431002 + 7.362430647075666 * x,  0.1235<x<0.181\n",
      "\n"
     ]
    }
   ],
   "source": [
    "V1x = -R1x\n",
    "print(\"V1x =\", V1x)\n",
    "print(\"M1x =\", -V1x,\"* x,  0<x<0.053\\n\")\n",
    "\n",
    "V2x = -Wtc1 - R1x\n",
    "print(\"V2x =\", V2x)\n",
    "print(\"M2x = \", -Wtc1*d,\"+\", -V2x, \"* x,  0.053<x<0.1235\\n\")\n",
    "\n",
    "V3x = -Wtc1  + Wrp2 - R1x\n",
    "print(\"V3x =\", V3x)\n",
    "print(\"M3x =\", -Wtc1*d,  \"+\", Wrp2*g, \"+\", -V3x, \"* x\")\n",
    "print(\"M3x =\", -Wtc1*d + Wrp2*g, \"+\", -V3x, \"* x,  0.1235<x<0.181\\n\")"
   ]
  },
  {
   "cell_type": "code",
   "execution_count": 272,
   "metadata": {},
   "outputs": [
    {
     "name": "stdout",
     "output_type": "stream",
     "text": [
      "0 M1x = 0.0\n",
      "0.068 M1x = 0.13552722371731685\n",
      "0.068 M2x = 0.1355272237173169\n",
      "0,123 M2x = 0.8483907955795347\n",
      "0,123 M3x = 0.8483907955795347\n",
      "0,181 M3x = 1.2717305577863856\n"
     ]
    }
   ],
   "source": [
    "#momento nos pontos criticos\n",
    "print(\"0 M1x =\", 2.55711742862862 * 0)\n",
    "print(\"0.068 M1x =\", 2.55711742862862 * d)\n",
    "print(\"0.068 M2x =\", -0.4003843976826483 + 10.111540026414437 * d)\n",
    "print(\"0,123 M2x =\", -0.4003843976826483 + 10.111540026414437 * g)\n",
    "print(\"0,123 M3x =\", -0.06086938933431002 + 7.362430647075666 * g)\n",
    "print(\"0,181 M3x =\", -0.06086938933431002 + 7.362430647075666 * j)"
   ]
  },
  {
   "cell_type": "markdown",
   "metadata": {},
   "source": [
    "![M1x](proj_av1/M1x.png)\n",
    "![M2x](proj_av1/M2x.png)\n",
    "![M3x](proj_av1/M3x.png)"
   ]
  },
  {
   "cell_type": "markdown",
   "metadata": {},
   "source": [
    "# Resultantes de cortante, momento e torque\n"
   ]
  },
  {
   "cell_type": "code",
   "execution_count": 273,
   "metadata": {},
   "outputs": [
    {
     "name": "stdout",
     "output_type": "stream",
     "text": [
      "R1 =  3.805103287694906 \n",
      "R2 =  3.9799626689711056 \n",
      "Fresc =  8.039248612453404 \n",
      "Fresp =  8.037858099840314\n"
     ]
    }
   ],
   "source": [
    "R1 = sqrt(R1y**2 + R1x**2)\n",
    "R2 = sqrt(R2y**2 + R2x**2)\n",
    "Fresc = sqrt(Wrc1**2 + Wtc1**2)\n",
    "Fresp = sqrt(Wrp2**2 + Wtp2**2)\n",
    "print(\"R1 = \",R1, \"\\nR2 = \",R2, \"\\nFresc = \",Fresc, \"\\nFresp = \",Fresp)"
   ]
  },
  {
   "cell_type": "markdown",
   "metadata": {},
   "source": [
    "O material escolhido é o aço SAE 1020 laminado a frio."
   ]
  },
  {
   "cell_type": "code",
   "execution_count": 274,
   "metadata": {},
   "outputs": [
    {
     "name": "stdout",
     "output_type": "stream",
     "text": [
      "Sei = 30.45\n",
      "Se = 24.6645\n"
     ]
    }
   ],
   "source": [
    "Sut = 60.9         #Mpa > kpsi\n",
    "Sy = 80.9          #Mpa > kpsi\n",
    "\n",
    "Sei = Sut*0.5\n",
    "print(\"Sei =\", Sei)\n",
    "Ccarreg = 1 #(Flexão e torção)\n",
    "Ctamanho = 1 #(como não sabe o tamanho da peça adotado 1,0)\n",
    "Csuperf = 0.81 #(usinado)\n",
    "Ctemp = 1 #(Temperatura baixa)\n",
    "Cconf = 1 #(50%)\n",
    "Se = Ccarreg*Ctamanho*Csuperf*Ctemp*Cconf*Sei\n",
    "print(\"Se =\", Se)"
   ]
  },
  {
   "cell_type": "code",
   "execution_count": 275,
   "metadata": {},
   "outputs": [
    {
     "name": "stdout",
     "output_type": "stream",
     "text": [
      "pontos críticos = [0.015  0.025  0.04   0.068  0.096  0.126  0.1585 0.191  0.206  0.216 ]\n"
     ]
    }
   ],
   "source": [
    "a = 15\n",
    "b = 25\n",
    "c = 40\n",
    "d = c+(20+36)/2\n",
    "e = d+(20+36)/2\n",
    "f = e+30\n",
    "g = f + (20+45)/2\n",
    "h = g + (20+45)/2\n",
    "i = h + 15\n",
    "j = i + 10\n",
    "\n",
    "pontocritico = np.array([a, b, c, d, e, f, g, h, i, j])/1000\n",
    "\n",
    "print(\"pontos críticos =\", pontocritico)\n",
    "\n",
    "a = 0.015\n",
    "b = 0.025 \n",
    "c = 0.04  \n",
    "d = 0.068 \n",
    "e = 0.096\n",
    "f = 0.126 \n",
    "g = 0.1585\n",
    "h = 0.191 \n",
    "i= 0.206 \n",
    "j = 0.216"
   ]
  }
 ],
 "metadata": {
  "kernelspec": {
   "display_name": "Python 3.10.7 64-bit",
   "language": "python",
   "name": "python3"
  },
  "language_info": {
   "codemirror_mode": {
    "name": "ipython",
    "version": 3
   },
   "file_extension": ".py",
   "mimetype": "text/x-python",
   "name": "python",
   "nbconvert_exporter": "python",
   "pygments_lexer": "ipython3",
   "version": "3.10.7"
  },
  "orig_nbformat": 4,
  "vscode": {
   "interpreter": {
    "hash": "1cea4506632fe95fa0a52c6706177ad7ab5386cc316bf87ad8dd5966739875d1"
   }
  }
 },
 "nbformat": 4,
 "nbformat_minor": 2
}
