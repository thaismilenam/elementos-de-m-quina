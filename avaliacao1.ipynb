{
 "cells": [
  {
   "cell_type": "code",
   "execution_count": 429,
   "metadata": {},
   "outputs": [],
   "source": [
    "from numpy import sqrt, sin, cos, tan, radians, pi, sqrt, interp\n",
    "import numpy as np\n",
    "import matplotlib.pyplot as plt\n",
    "import pandas as pd"
   ]
  },
  {
   "cell_type": "markdown",
   "metadata": {},
   "source": [
    "# Cálculo das engrenagens"
   ]
  },
  {
   "cell_type": "code",
   "execution_count": 430,
   "metadata": {},
   "outputs": [
    {
     "name": "stdout",
     "output_type": "stream",
     "text": [
      "Em rad/s: ωp = 123.56931104119853 ωc = 7.5398223686155035\n",
      "mg intermediária = 16.38888888888889\n",
      "mg entrada e saida = 4.0483192671637065\n",
      "passo diametral 0.3333333333333333\n",
      "a = 3 b = 0.75 pc = 9.42477796076938 pb = 8.856394302280648 \n",
      "pd = 0.3333333333333333 Fc = 36 Fp = 45\n",
      "\n",
      "pinhão\n",
      "Diâmetro primitivo do pinhão = 210 \n",
      "Diâmetro externo do pinhão = 216 \n",
      "Diâmetro raiz do pinhão = 208.5 \n",
      "Velocidade linear do pinhão 1358.7155392166349\n",
      "\n",
      "coroa\n",
      "Diâmetro primitivo da coroa = 255 \n",
      "Diâmetro externo da coroa = 261 \n",
      "Diâmetro raiz da coroa = 253.5 \n",
      "Velocidade linear da coroa 100.66996489111145\n"
     ]
    }
   ],
   "source": [
    "Pe = 30000                      #W\n",
    "ωp = (1180*2*pi)/60                #rpm  escolhido no motor elétrico (entrada) - rad/s\n",
    "Ps = 29400                      #W  \n",
    "ωc = (72*2*pi)/60                  #rpm (saída) -> rad/s\n",
    "print(\"Em rad/s: ωp =\", ωp, \"ωc =\", ωc)\n",
    "\n",
    "mg1 = (ωp/ωc)\n",
    "print(\"mg intermediária =\", mg1)\n",
    "mg2 = sqrt(mg1)\n",
    "print(\"mg entrada e saida =\",mg2)\n",
    "\n",
    "Tent = Ps/ωp  #torque entrada\n",
    "Tsai = Ps/ωc  #torque saida\n",
    "\n",
    "Nc = 85\n",
    "Np = 21\n",
    "\n",
    "m = 3  #adotado\n",
    "pd = 1/m\n",
    "theta = 20   \n",
    "print(\"passo diametral\", pd)\n",
    "\n",
    "a = m                           #adendo\n",
    "b = 0.25*m                      #dedendo\n",
    "pc = pi*m                       #passo circular\n",
    "pb = pc*cos(radians(theta))     #passo de base\n",
    "Fc = 12*m                       #largura da face 6 a 16*m  \n",
    "Fp = 15*m\n",
    "\n",
    "print(\"a =\", a, \"b =\", b, \"pc =\", pc, \"pb =\", pb, \"\\npd =\", pd, \"Fc =\", Fc,  \"Fp =\", Fp)\n",
    "\n",
    "\"\"\"*pinhão*\"\"\"\n",
    "print(\"\\npinhão\")\n",
    "\n",
    "dpp = 10*Np               #diâmetro primitivo\n",
    "dep = dpp + a*2          #diametro externo A = adendo, dp = diam. prim.\n",
    "drp = dpp - 2*b          #diametro raiz D = dedendo, dr = diam. raiz\n",
    "Vp = (pi*ωp/30)*(dpp/2)  #velocidade linear\n",
    "print(\"Diâmetro primitivo do pinhão =\", dpp, \"\\nDiâmetro externo do pinhão =\", dep, \"\\nDiâmetro raiz do pinhão =\", drp, \"\\nVelocidade linear do pinhão\", Vp)\n",
    "\n",
    "\"\"\"*coroa*\"\"\"\n",
    "print(\"\\ncoroa\")\n",
    "\n",
    "dpc = m*Nc               #diâmetro primitivo\n",
    "dec = dpc + a*2          #diametro externo A = adendo, dp = diam. prim.\n",
    "drc = dpc - 2*b          #diametro raiz D = dedendo, dr = diam. raiz\n",
    "dbc = dpc*cos(radians(theta))\n",
    "Vc = (pi*ωc/30)*(dpc/2)  #velocidade linear\n",
    "print(\"Diâmetro primitivo da coroa =\", dpc, \"\\nDiâmetro externo da coroa =\", dec, \"\\nDiâmetro raiz da coroa =\", drc, \"\\nVelocidade linear da coroa\", Vc)"
   ]
  },
  {
   "cell_type": "code",
   "execution_count": 431,
   "metadata": {},
   "outputs": [
    {
     "name": "stdout",
     "output_type": "stream",
     "text": [
      "*pinhão 1*\n",
      "Torque = 237.92315221534184 Carga Tangencial = 2.2659347830032557 Carga Radial = 0.8247328138016313 Carga Resultante = 2.4113574299520937\n",
      "*coroa 1*\n",
      "Torque = 963.1888812176917 Carga Tangencial = 7.554422597785817 Carga Radial = 2.749584962661997 Carga Resultante = 8.039248612453404\n",
      "*pinhão 2*\n",
      "Torque = 963.1888812176917 Carga Tangencial = 2.2659347830032557 Carga Radial = 0.8247328138016313 Carga Resultante = 2.4113574299520937\n",
      "*coroa 2*\n",
      "Torque = 3899.296105751436 Carga Tangencial = 30.58271455491322 Carga Radial = 11.131197781048161 Carga Resultante = 32.5454450513142\n"
     ]
    }
   ],
   "source": [
    "print('*pinhão 1*')\n",
    "\n",
    "Tp1 = Tent             #torque\n",
    "Wtp1 = Tp1/(dpp/2)     #carga transmitida\n",
    "Wrp1 = Wtp1*tan(radians(theta))\n",
    "Wp1 = Wtp1/cos(radians(theta))\n",
    "print (\"Torque =\", Tp1, \"Carga Tangencial =\", Wtp1, \"Carga Radial =\", Wrp1, \"Carga Resultante =\", Wp1)\n",
    "\n",
    "print('*coroa 1*')\n",
    "\n",
    "Tc1 = Tp1*mg2            #torque\n",
    "Wtc1 = Tc1/(dpc/2) #carga transmitida\n",
    "Wrc1 = Wtc1*tan(radians(theta))\n",
    "Wc1 = Wtc1/cos(radians(theta))\n",
    "print (\"Torque =\", Tc1, \"Carga Tangencial =\", Wtc1, \"Carga Radial =\", Wrc1, \"Carga Resultante =\", Wc1)\n",
    "\n",
    "print('*pinhão 2*')\n",
    "\n",
    "Tp2 = Tc1             #torque\n",
    "Wtp2 = Tp1/(dpp/2) #carga transmitida\n",
    "Wrp2 = Wtp2*tan(radians(theta))\n",
    "Wp2 = Wtp2/cos(radians(theta))\n",
    "print (\"Torque =\", Tp2, \"Carga Tangencial =\", Wtp2, \"Carga Radial =\", Wrp2, \"Carga Resultante =\", Wp2)\n",
    "\n",
    "print('*coroa 2*')\n",
    "\n",
    "Tc2 = Tp1*mg1            #torque\n",
    "Wtc2 = Tc2/(dpc/2)      #carga transmitida\n",
    "Wrc2 = Wtc2*tan(radians(theta))\n",
    "Wc2 = Wtc2/cos(radians(theta))\n",
    "print (\"Torque =\", Tc2, \"Carga Tangencial =\", Wtc2, \"Carga Radial =\", Wrc2, \"Carga Resultante =\", Wc2)"
   ]
  },
  {
   "cell_type": "code",
   "execution_count": 432,
   "metadata": {},
   "outputs": [],
   "source": [
    "d = 0.053+0.008 \n",
    "g = 0.1235+0.016+0.008 \n",
    "j = 0.181+0.032"
   ]
  },
  {
   "cell_type": "markdown",
   "metadata": {},
   "source": [
    "# Cálculo de elementos finitos - reações nos planos"
   ]
  },
  {
   "cell_type": "code",
   "execution_count": 433,
   "metadata": {},
   "outputs": [
    {
     "name": "stdout",
     "output_type": "stream",
     "text": [
      "R1y + R2y = 3.5743177764636282\n",
      "R1y = 2.2157601578808936 R2y = 1.3585576185827346\n",
      "R1x + R2x = -5.288487814782561\n",
      "R1x = 4.168657673045574 R2x = -0.5943398965819462\n"
     ]
    }
   ],
   "source": [
    "#plano xy calculos\n",
    "somareacaoxy = Wrc1 + Wrp2\n",
    "print(\"R1y + R2y =\", somareacaoxy)\n",
    "\n",
    "R2y = (Wrc1*d + Wrp2*g)/j\n",
    "R1y = somareacaoxy - R2y\n",
    "print(\"R1y =\", R1y, \"R2y =\", R2y)\n",
    "\n",
    "#plano xz calculos\n",
    "somareacaoxz = Wtp2 - Wtc1\n",
    "print(\"R1x + R2x =\", somareacaoxz)\n",
    "\n",
    "R2x = (Wtp2*g - Wtc1*d)/j\n",
    "R1x = somareacaoxy - R2x\n",
    "print(\"R1x =\", R1x, \"R2x =\", R2x)"
   ]
  },
  {
   "cell_type": "markdown",
   "metadata": {},
   "source": [
    "# Cálculo de cortante, momento e torque - xy"
   ]
  },
  {
   "cell_type": "code",
   "execution_count": 434,
   "metadata": {},
   "outputs": [
    {
     "name": "stdout",
     "output_type": "stream",
     "text": [
      "V1y -2.2157601578808936\n",
      "M1y = 2.2157601578808936 * x,  0<x<0.053\n",
      "\n",
      "V2y 0.5338248047811032\n",
      "M2y = 0.1677246827223818 + -0.5338248047811032 * x,  0.053<x<0.1235\n",
      "\n",
      "V3y 1.3585576185827346\n",
      "M3y = 0.1677246827223818 + 0.12164809003574063 - 1.3585576185827346 * x\n",
      "M3y = 0.28937277275812245 - 1.3585576185827346 * x,  0.1235<x<0.181\n",
      "\n"
     ]
    }
   ],
   "source": [
    "V1y = -R1y\n",
    "print(\"V1y\", V1y)\n",
    "print(\"M1y =\", -V1y,\"* x,  0<x<0.053\\n\")\n",
    "\n",
    "V2y = Wrc1 - R1y\n",
    "print(\"V2y\", V2y)\n",
    "print(\"M2y =\", Wrc1*d, \"+\", -V2y, \"* x,  0.053<x<0.1235\\n\")\n",
    "\n",
    "V3y = Wrc1  + Wrp2 - R1y\n",
    "print(\"V3y\", V3y)\n",
    "print(\"M3y =\", Wrc1*d, \"+\", Wrp2*g, \"-\", V3y, \"* x\")\n",
    "print(\"M3y =\", Wrc1*d + Wrp2*g, \"-\", V3y, \"* x,  0.1235<x<0.181\\n\")"
   ]
  },
  {
   "cell_type": "code",
   "execution_count": 435,
   "metadata": {},
   "outputs": [
    {
     "name": "stdout",
     "output_type": "stream",
     "text": [
      "0 M1y = 0.0\n",
      "0,053 M1y = 0.17188541732870502\n",
      "0,053 M2y = 0.14988873762740904\n",
      "0,123 M2y = 0.15578879571670343\n",
      "0,123 M3y = 0.0898101706125729\n",
      "0,181 M3y = -0.08578881968962193\n"
     ]
    }
   ],
   "source": [
    "#momento nos pontos criticos\n",
    "print(\"0 M1y =\", 2.8177937267000823 * 0)\n",
    "print(\"0,053 M1y =\", 2.8177937267000823 * d)\n",
    "print(\"0,053 M2y =\", 0.14572800302108582 + 0.06820876403808551* d)\n",
    "print(\"0,123 M2y =\", 0.14572800302108582 + 0.06820876403808551* g)\n",
    "print(\"0,123 M3y =\", 0.48524301136942405 - 2.6809006153006854 * g)\n",
    "print(\"0,181 M3y =\", 0.48524301136942405 - 2.6809006153006854 * j)"
   ]
  },
  {
   "cell_type": "markdown",
   "metadata": {},
   "source": [
    "![M1y](proj_av1/M1y.png)\n",
    "![M2y](proj_av1/M2y.png)\n",
    "![M3y](proj_av1/M3y.png)"
   ]
  },
  {
   "cell_type": "markdown",
   "metadata": {},
   "source": [
    "# Cálculo de cortante, momento e torque - xz"
   ]
  },
  {
   "cell_type": "code",
   "execution_count": 436,
   "metadata": {},
   "outputs": [
    {
     "name": "stdout",
     "output_type": "stream",
     "text": [
      "V1x = -4.168657673045574\n",
      "M1x = 4.168657673045574 * x,  0<x<0.053\n",
      "\n",
      "V2x = -11.723080270831392\n",
      "M2x =  -0.4608197784649348 + 11.723080270831392 * x,  0.053<x<0.1235\n",
      "\n",
      "V3x = -10.898347457029761\n",
      "M3x = -0.4608197784649348 + 0.12164809003574063 + 10.898347457029761 * x\n",
      "M3x = -0.3391716884291942 + 10.898347457029761 * x,  0.1235<x<0.181\n",
      "\n"
     ]
    }
   ],
   "source": [
    "V1x = -R1x\n",
    "print(\"V1x =\", V1x)\n",
    "print(\"M1x =\", -V1x,\"* x,  0<x<0.053\\n\")\n",
    "\n",
    "V2x = -Wtc1 - R1x\n",
    "print(\"V2x =\", V2x)\n",
    "print(\"M2x = \", -Wtc1*d,\"+\", -V2x, \"* x,  0.053<x<0.1235\\n\")\n",
    "\n",
    "V3x = -Wtc1  + Wrp2 - R1x\n",
    "print(\"V3x =\", V3x)\n",
    "print(\"M3x =\", -Wtc1*d,  \"+\", Wrp2*g, \"+\", -V3x, \"* x\")\n",
    "print(\"M3x =\", -Wtc1*d + Wrp2*g, \"+\", -V3x, \"* x,  0.1235<x<0.181\\n\")"
   ]
  },
  {
   "cell_type": "code",
   "execution_count": 437,
   "metadata": {},
   "outputs": [
    {
     "name": "stdout",
     "output_type": "stream",
     "text": [
      "0 M1x = 0.0\n",
      "0.068 M1x = 0.1559841631463458\n",
      "0.068 M2x = 0.21641954392863233\n",
      "0,123 M2x = 1.0910677562134814\n",
      "0,123 M3x = 1.0250891311093508\n",
      "0,181 M3x = 1.507328338492807\n"
     ]
    }
   ],
   "source": [
    "#momento nos pontos criticos\n",
    "print(\"0 M1x =\", 2.55711742862862 * 0)\n",
    "print(\"0.068 M1x =\", 2.55711742862862 * d)\n",
    "print(\"0.068 M2x =\", -0.4003843976826483 + 10.111540026414437 * d)\n",
    "print(\"0,123 M2x =\", -0.4003843976826483 + 10.111540026414437 * g)\n",
    "print(\"0,123 M3x =\", -0.06086938933431002 + 7.362430647075666 * g)\n",
    "print(\"0,181 M3x =\", -0.06086938933431002 + 7.362430647075666 * j)"
   ]
  },
  {
   "cell_type": "markdown",
   "metadata": {},
   "source": [
    "![M1x](proj_av1/M1x.png)\n",
    "![M2x](proj_av1/M2x.png)\n",
    "![M3x](proj_av1/M3x.png)"
   ]
  },
  {
   "cell_type": "markdown",
   "metadata": {},
   "source": [
    "# Resultantes de cortante, momento e torque\n"
   ]
  },
  {
   "cell_type": "code",
   "execution_count": 438,
   "metadata": {},
   "outputs": [
    {
     "name": "stdout",
     "output_type": "stream",
     "text": [
      "[0.015  0.025  0.04   0.076  0.112  0.142  0.1825 0.223  0.238  0.248 ]\n"
     ]
    }
   ],
   "source": [
    "a = 0.015\n",
    "b = 0.025 \n",
    "c = 0.04  \n",
    "d = 0.068+0.008 \n",
    "e = 0.096+0.008+0.008 \n",
    "f = 0.126+0.016 \n",
    "g = 0.1585+0.016+0.008 \n",
    "h = 0.191+0.016+0.016 \n",
    "i= 0.206+0.032 \n",
    "j = 0.216+0.032 \n",
    "\n",
    "pontos = np.array([a,b,c,d,e,f,g,h,i,j])\n",
    "print(pontos)"
   ]
  },
  {
   "cell_type": "code",
   "execution_count": 439,
   "metadata": {},
   "outputs": [
    {
     "name": "stdout",
     "output_type": "stream",
     "text": [
      "0.057076549315423594 0.09512758219237265 0.15220413150779624 0.3978273331958069 0.747999868437928 1.0470525203497527 1.2827805069799152 1.584957266301453 1.6982780713186794 1.7741295917963558\n"
     ]
    }
   ],
   "source": [
    "MA = sqrt((2.55711742862862 * a)**2 + (2.8177937267000823 * a)**2)\n",
    "MB = sqrt((2.55711742862862 * b)**2 + (2.8177937267000823 * b)**2)\n",
    "MC = sqrt((2.55711742862862 * c)**2 + (2.8177937267000823 * c)**2)\n",
    "MD = sqrt((0.14572800302108582 + 0.06820876403808551 * d)**2 + (-0.4003843976826483 + 10.111540026414437 * d)**2)\n",
    "ME = sqrt((0.14572800302108582 + 0.06820876403808551 * e)**2 + (-0.4003843976826483 + 10.111540026414437 * e)**2)\n",
    "MF = sqrt((0.14572800302108582 + 0.06820876403808551 * f)**2 + (-0.4003843976826483 + 10.111540026414437 * f)**2)\n",
    "MG = sqrt((0.48524301136942405 - 2.6809006153006854 * g)**2+(-0.06086938933431002 + 7.362430647075666 * g)**2)\n",
    "MH = sqrt((0.48524301136942405 - 2.6809006153006854 * h)**2+(-0.06086938933431002 + 7.362430647075666 * h)**2)\n",
    "MI = sqrt((0.48524301136942405 - 2.6809006153006854 * i)**2+(-0.06086938933431002 + 7.362430647075666 * i)**2)\n",
    "MJ = sqrt((0.48524301136942405 - 2.6809006153006854 * j)**2+(-0.06086938933431002 + 7.362430647075666 * j)**2)\n",
    "\n",
    "print(MA,MB,MC,MD,ME,MF,MG,MH,MI,MJ)"
   ]
  },
  {
   "cell_type": "code",
   "execution_count": 440,
   "metadata": {},
   "outputs": [
    {
     "name": "stdout",
     "output_type": "stream",
     "text": [
      "R1 =  4.720942688944032 \n",
      "R2 =  1.4828751517502172 \n",
      "Fresc =  8.039248612453404 \n",
      "Fresp =  2.411357429952094\n"
     ]
    }
   ],
   "source": [
    "R1 = sqrt(R1y**2 + R1x**2)\n",
    "R2 = sqrt(R2y**2 + R2x**2)\n",
    "Fresc = sqrt(Wrc1**2 + Wtc1**2)\n",
    "Fresp = sqrt(Wrp2**2 + Wtp2**2)\n",
    "print(\"R1 = \",R1, \"\\nR2 = \",R2, \"\\nFresc = \",Fresc, \"\\nFresp = \",Fresp)"
   ]
  },
  {
   "cell_type": "markdown",
   "metadata": {},
   "source": [
    "O material escolhido é o aço SAE 1020 laminado a frio."
   ]
  },
  {
   "cell_type": "code",
   "execution_count": 441,
   "metadata": {},
   "outputs": [
    {
     "name": "stdout",
     "output_type": "stream",
     "text": [
      "Sei = 30.45\n",
      "Se = 24.6645\n"
     ]
    }
   ],
   "source": [
    "Sut = 60.9         #Mpa > kpsi\n",
    "Sy = 80.9          #Mpa > kpsi\n",
    "\n",
    "Sei = Sut*0.5\n",
    "print(\"Sei =\", Sei)\n",
    "Ccarreg = 1 #(Flexão e torção)\n",
    "Ctamanho = 1 #(como não sabe o tamanho da peça adotado 1,0)\n",
    "Csuperf = 0.81 #(usinado)\n",
    "Ctemp = 1 #(Temperatura baixa)\n",
    "Cconf = 1 #(50%)\n",
    "Se = Ccarreg*Ctamanho*Csuperf*Ctemp*Cconf*Sei\n",
    "print(\"Se =\", Se)"
   ]
  },
  {
   "cell_type": "markdown",
   "metadata": {},
   "source": [
    "### Ponto crítico A, B, E, F, I, J"
   ]
  },
  {
   "cell_type": "code",
   "execution_count": 442,
   "metadata": {},
   "outputs": [
    {
     "name": "stdout",
     "output_type": "stream",
     "text": [
      "qt flexão =  0.65242211710977\n",
      "kf = 1.848148752242701\n",
      "qt torção =  0.5583472920156337\n",
      "kf = 1.5583472920156338\n"
     ]
    }
   ],
   "source": [
    "a = 0.10655                          #raiz a\n",
    "r = 0.04                             # em pol (in)\n",
    "qt = 1/(1+(a/sqrt(r)))               #sensibilidade ao entalhe flexão\n",
    "print(\"qt flexão = \", qt)\n",
    "kt = 2.3                             #fator de concentrações de tensões teórico estático - flexão\n",
    "kf = 1+(qt*(kt-1))                   #fator de concentrações de tensões em fagiga dinâmico - flexão\n",
    "print(\"kf =\", kf)\n",
    "\n",
    "a = 0.0791                           #raiz a\n",
    "r = 0.01                             # em pol (in)\n",
    "qt = 1/(1+(a/sqrt(r)))               #sensibilidade ao entalhe torção\n",
    "print(\"qt torção = \", qt)\n",
    "kts = 2                              #fator de concentrações de tensões teórico estático - torção\n",
    "kf = 1+(qt*(kts-1))                  #fator de concentrações de tensões em fagiga dinâmico - torção\n",
    "print(\"kf =\", kf)"
   ]
  },
  {
   "cell_type": "code",
   "execution_count": 443,
   "metadata": {},
   "outputs": [
    {
     "name": "stdout",
     "output_type": "stream",
     "text": [
      "kfsm 1.5583472920156338\n",
      "diametro do ponto A = 0.08567061126422379\n",
      "kfsm 1.5583472920156338\n",
      "diametro do ponto B = 106.89352139965098\n",
      "kfsm 1.5583472920156338\n",
      "diametro do ponto E = 108.69075246223333\n",
      "kfsm 1.5583472920156338\n",
      "diametro do ponto F = 110.43604136703605\n",
      "kfsm 1.5583472920156338\n",
      "diametro do ponto I = 116.19805336997926\n",
      "kfsm 1.5583472920156338\n",
      "diametro do ponto J = 117.04059558174964\n"
     ]
    }
   ],
   "source": [
    "#diametro das seções mais solicitadas\n",
    "\n",
    "kfs = 1 + qt*(kts-1)\n",
    "kfsm = kfs\n",
    "Nf = 2.5\n",
    "Ma = MA\n",
    "Sf = Se\n",
    "Tm = 0\n",
    "print(\"kfsm\", kfsm)\n",
    "d = (((32*Nf)/pi)*((kfsm*(Ma/Sf))**2+((3/4)*(kfsm*(Tm/Sy)))**2)**(1/2)**(1/3))*25.4\n",
    "print(\"diametro do ponto A =\", d)\n",
    "\n",
    "#diametro das seções mais solicitadas\n",
    "\n",
    "kfs = 1 + qt*(kts-1)\n",
    "kfsm = kfs\n",
    "Nf = 2.5\n",
    "Ma = MB\n",
    "Sf = Se\n",
    "Tm = (Tsai/1000)*5.7101\n",
    "print(\"kfsm\", kfsm)\n",
    "d = (((32*Nf)/pi)*((kfsm*(Ma/Sf))**2+((3/4)*(kfsm*(Tm/Sy)))**2)**(1/2)**(1/3))*25.4\n",
    "print(\"diametro do ponto B =\", d)\n",
    "\n",
    "#diametro das seções mais solicitadas\n",
    "\n",
    "kfs = 1 + qt*(kts-1)\n",
    "kfsm = kfs\n",
    "Nf = 2.5\n",
    "Ma = ME\n",
    "Sf = Se\n",
    "print(\"kfsm\", kfsm)\n",
    "d = (((32*Nf)/pi)*((kfsm*(Ma/Sf))**2+((3/4)*(kfsm*(Tm/Sy)))**2)**(1/2)**(1/3))*25.4\n",
    "print(\"diametro do ponto E =\", d)\n",
    "\n",
    "\n",
    "#diametro das seções mais solicitadas\n",
    "\n",
    "kfs = 1 + qt*(kts-1)\n",
    "kfsm = kfs\n",
    "Nf = 2.5\n",
    "Ma = MF\n",
    "Sf = Se\n",
    "print(\"kfsm\", kfsm)\n",
    "d = (((32*Nf)/pi)*((kfsm*(Ma/Sf))**2+((3/4)*(kfsm*(Tm/Sy)))**2)**(1/2)**(1/3))*25.4\n",
    "print(\"diametro do ponto F =\", d)\n",
    "\n",
    "#diametro das seções mais solicitadas\n",
    "\n",
    "kfs = 1 + qt*(kts-1)\n",
    "kfsm = kfs\n",
    "Nf = 2.5\n",
    "Ma = MI\n",
    "Sf = Se\n",
    "print(\"kfsm\", kfsm)\n",
    "d = (((32*Nf)/pi)*((kfsm*(Ma/Sf))**2+((3/4)*(kfsm*(Tm/Sy)))**2)**(1/2)**(1/3))*25.4\n",
    "print(\"diametro do ponto I =\", d)\n",
    "\n",
    "#diametro das seções mais solicitadas\n",
    "\n",
    "kfs = 1 + qt*(kts-1)\n",
    "kfsm = kfs\n",
    "Nf = 2.5\n",
    "Ma = MJ\n",
    "Sf = Se\n",
    "print(\"kfsm\", kfsm)\n",
    "d = (((32*Nf)/pi)*((kfsm*(Ma/Sf))**2+((3/4)*(kfsm*(Tm/Sy)))**2)**(1/2)**(1/3))*25.4\n",
    "print(\"diametro do ponto J =\", d)"
   ]
  },
  {
   "cell_type": "markdown",
   "metadata": {},
   "source": [
    "### Ponto crítico D e G"
   ]
  },
  {
   "cell_type": "code",
   "execution_count": 444,
   "metadata": {},
   "outputs": [
    {
     "name": "stdout",
     "output_type": "stream",
     "text": [
      "\n",
      "qt flexão =  0.4841442749939482\n",
      "kf = 1.6051803437424352\n",
      "qt torção =  0.5583472920156337\n",
      "kf = 1.6051803437424352\n"
     ]
    }
   ],
   "source": [
    "print(\"\")\n",
    "\n",
    "a = 0.10655                         #raiz a\n",
    "r = 0.01                            # em pol (in)\n",
    "qt = 1/(1+(a/sqrt(r)))              #sensibilidade ao entalhe flexão\n",
    "print(\"qt flexão = \", qt)\n",
    "kt = 2.25                            #fator de concentrações de tensões teórico estático - flexão\n",
    "kf = 1+(qt*(kt-1))                  #fator de concentrações de tensões em fagiga dinâmico - flexão\n",
    "print(\"kf =\", kf)\n",
    "\n",
    "a = 0.0791                         #raiz a\n",
    "r = 0.01                            # em pol (in)\n",
    "qt = 1/(1+(a/sqrt(r)))              #sensibilidade ao entalhe torção\n",
    "print(\"qt torção = \", qt)\n",
    "kts = 3                            #fator de concentrações de tensões teórico estático - torção\n",
    "kfs = 1+(qt*(kts-1))                  #fator de concentrações de tensões em fagiga dinâmico - torção\n",
    "print(\"kf =\", kf)"
   ]
  },
  {
   "cell_type": "code",
   "execution_count": 445,
   "metadata": {},
   "outputs": [
    {
     "name": "stdout",
     "output_type": "stream",
     "text": [
      "kfsm 2.1166945840312676\n",
      "diametro do ponto D = 174.59996132312435\n",
      "kfsm 2.1166945840312676\n",
      "diametro do ponto G = 182.45789767666588\n"
     ]
    }
   ],
   "source": [
    "#diametro das seções mais solicitadas\n",
    "\n",
    "kfs = 1 + qt*(kts-1)\n",
    "kfsm = kfs\n",
    "Nf = 2.5\n",
    "Ma = MD\n",
    "Sf = Se\n",
    "print(\"kfsm\", kfsm)\n",
    "d = (((32*Nf)/pi)*((kfsm*(Ma/Sf))**2+((3/4)*(kfsm*(Tm/Sy)))**2)**(1/2)**(1/3))*25.4\n",
    "print(\"diametro do ponto D =\", d)\n",
    "\n",
    "kfs = 1 + qt*(kts-1)\n",
    "kfsm = kfs\n",
    "Nf = 2.5\n",
    "Ma = MG\n",
    "Sf = Se\n",
    "print(\"kfsm\", kfsm)\n",
    "d = (((32*Nf)/pi)*((kfsm*(Ma/Sf))**2+((3/4)*(kfsm*(Tm/Sy)))**2)**(1/2)**(1/3))*25.4\n",
    "print(\"diametro do ponto G =\", d)"
   ]
  },
  {
   "cell_type": "markdown",
   "metadata": {},
   "source": [
    "# Cálculo das chavetas\n",
    "\n",
    "![chavetas](atividade_4/dimensoes.png)"
   ]
  },
  {
   "cell_type": "markdown",
   "metadata": {},
   "source": [
    "### Chaveta ponto D - diâmetro 175"
   ]
  },
  {
   "cell_type": "code",
   "execution_count": 446,
   "metadata": {},
   "outputs": [],
   "source": [
    "d = 175                    #mm\n",
    "b = 45*0.0001\n",
    "h = 25*0.0001\n",
    "t1 = 15*0.0001\n",
    "t2 = 10.5*0.0001\n",
    "T = 3899.2961              #N.m\n",
    "fs = 1.1"
   ]
  },
  {
   "cell_type": "code",
   "execution_count": 447,
   "metadata": {},
   "outputs": [
    {
     "name": "stdout",
     "output_type": "stream",
     "text": [
      "força cisalhante = 44.563384\n",
      "comprimento da chaveta = 23.32224962772206\n",
      "dimensionamento para falha por esmagamento = 60.59298195302843\n",
      "componentes do torque = 1949.648052875718\n",
      "componentes da força cisalhante = 22.281692032865347\n",
      "componentes da tensão cisalhamento = 81.71717183770399\n",
      "tensão de von misses: 𝜎a = 141.5382934737399\n",
      "Diagrama de Goodman modificado = 0.12402865570595309\n",
      "carga elástica = 735.454546539336\n",
      "fator de segurança para carregamento estático = 0.10999999983775074\n",
      "As dimensões da chaveta foram selecionadas:\n",
      "Comprimento da chaveta: 60.59298195302843 \n",
      "Altura da chaveta: 2.5 \n",
      "Largura da chaveta: 4.500000000000001\n"
     ]
    }
   ],
   "source": [
    "F = (2*T)/d\n",
    "print(\"força cisalhante =\", F)\n",
    "\n",
    "L = (fs*F*sqrt(3))/(Sy*b*10)\n",
    "print(\"comprimento da chaveta =\", L)\n",
    "\n",
    "L = (fs*F)/((h-t1)*Sy*10)\n",
    "print(\"dimensionamento para falha por esmagamento =\", L)\n",
    "\n",
    "Tmax = 3899.296105751436\n",
    "Ta = Tmax/2\n",
    "print(\"componentes do torque =\", Ta)\n",
    "\n",
    "Fa = Ta/(d/2)\n",
    "print(\"componentes da força cisalhante =\", Fa)\n",
    "Fm = Fa\n",
    "\n",
    "𝜏a = (Fa)/(b*L)                #MPa\n",
    "print(\"componentes da tensão cisalhamento =\", 𝜏a)\n",
    "\n",
    "𝜎a = sqrt(3)*𝜏a\n",
    "print(\"tensão de von misses: 𝜎a =\", 𝜎a)\n",
    "\n",
    "𝜎m = 𝜎a\n",
    "Se = Ccarreg*Ctamanho*Csuperf*Ctemp*Cconf*Sei\n",
    "N = 1/((𝜎a/Se)+(𝜎m/Sut))\n",
    "print(\"Diagrama de Goodman modificado =\", N)\n",
    "\n",
    "Aesm = L*(h-t1)\n",
    "𝜎max = (Fm + Fa)/Aesm\n",
    "print(\"carga elástica =\", 𝜎max)\n",
    "\n",
    "fsel = Sy/𝜎max\n",
    "print(\"fator de segurança para carregamento estático =\", fsel)\n",
    "\n",
    "print(\"As dimensões da chaveta foram selecionadas:\\nComprimento da chaveta:\", L,\"\\nAltura da chaveta:\", h*1000, \"\\nLargura da chaveta:\", b*1000)"
   ]
  },
  {
   "cell_type": "markdown",
   "metadata": {},
   "source": [
    "### Chaveta ponto D - diâmetro 183"
   ]
  },
  {
   "cell_type": "code",
   "execution_count": 448,
   "metadata": {},
   "outputs": [],
   "source": [
    "d = 183                    #mm\n",
    "b = 45*0.0001\n",
    "h = 25*0.0001\n",
    "t1 = 15*0.0001\n",
    "t2 = 10.5*0.0001\n",
    "T = 3899.2961              #N.m\n",
    "fs = 1.1"
   ]
  },
  {
   "cell_type": "code",
   "execution_count": 449,
   "metadata": {},
   "outputs": [
    {
     "name": "stdout",
     "output_type": "stream",
     "text": [
      "força cisalhante = 42.61525792349727\n",
      "comprimento da chaveta = 22.3026977314282\n",
      "dimensionamento para falha por esmagamento = 57.94410842502718\n",
      "componentes do torque = 1949.648052875718\n",
      "componentes da força cisalhante = 21.307628993177246\n",
      "componentes da tensão cisalhamento = 81.71717183770402\n",
      "tensão de von misses: 𝜎a = 141.53829347373994\n",
      "Diagrama de Goodman modificado = 0.12402865570595306\n",
      "carga elástica = 735.4545465393361\n",
      "fator de segurança para carregamento estático = 0.10999999983775073\n",
      "As dimensões da chaveta foram selecionadas:\n",
      "Comprimento da chaveta: 57.94410842502718 \n",
      "Altura da chaveta: 2.5 \n",
      "Largura da chaveta: 4.500000000000001\n"
     ]
    }
   ],
   "source": [
    "F = (2*T)/d\n",
    "print(\"força cisalhante =\", F)\n",
    "\n",
    "L = (fs*F*sqrt(3))/(Sy*b*10)\n",
    "print(\"comprimento da chaveta =\", L)\n",
    "\n",
    "L = (fs*F)/((h-t1)*Sy*10)\n",
    "print(\"dimensionamento para falha por esmagamento =\", L)\n",
    "\n",
    "Tmax = 3899.296105751436\n",
    "Ta = Tmax/2\n",
    "print(\"componentes do torque =\", Ta)\n",
    "\n",
    "Fa = Ta/(d/2)\n",
    "print(\"componentes da força cisalhante =\", Fa)\n",
    "Fm = Fa\n",
    "\n",
    "𝜏a = (Fa)/(b*L)                #MPa\n",
    "print(\"componentes da tensão cisalhamento =\", 𝜏a)\n",
    "\n",
    "𝜎a = sqrt(3)*𝜏a\n",
    "print(\"tensão de von misses: 𝜎a =\", 𝜎a)\n",
    "\n",
    "𝜎m = 𝜎a\n",
    "Se = Ccarreg*Ctamanho*Csuperf*Ctemp*Cconf*Sei\n",
    "N = 1/((𝜎a/Se)+(𝜎m/Sut))\n",
    "print(\"Diagrama de Goodman modificado =\", N)\n",
    "\n",
    "Aesm = L*(h-t1)\n",
    "𝜎max = (Fm + Fa)/Aesm\n",
    "print(\"carga elástica =\", 𝜎max)\n",
    "\n",
    "fsel = Sy/𝜎max\n",
    "print(\"fator de segurança para carregamento estático =\", fsel)\n",
    "\n",
    "print(\"As dimensões da chaveta foram selecionadas:\\nComprimento da chaveta:\", L,\"\\nAltura da chaveta:\", h*1000, \"\\nLargura da chaveta:\", b*1000)"
   ]
  },
  {
   "cell_type": "markdown",
   "metadata": {},
   "source": [
    "## Cálculo do rolamento"
   ]
  },
  {
   "cell_type": "markdown",
   "metadata": {},
   "source": [
    "Rolamento da seção A"
   ]
  },
  {
   "cell_type": "code",
   "execution_count": 450,
   "metadata": {},
   "outputs": [
    {
     "name": "stdout",
     "output_type": "stream",
     "text": [
      "qt flexão =  0.763338635757893\n",
      "kf = 1.6051803437424352\n",
      "Nf = 11.625506092305733\n",
      "diametro do ponto A = 93.40499844054514\n"
     ]
    }
   ],
   "source": [
    "d = 107*0.0393701\n",
    "a = 0.10655                         #raiz a\n",
    "r = 0.11811                         #entalhe em pol (in) - 0,3 mm\n",
    "qt = 1/(1+(a/sqrt(r)))              #sensibilidade ao entalhe flexão\n",
    "print(\"qt flexão = \", qt)\n",
    "kt = 3\n",
    "kts = 1+(qt*(kt-1))                  #fator de concentrações de tensões em fagiga dinâmico - flexão\n",
    "print(\"kf =\", kf)\n",
    "Ma = MB*101.972\n",
    "Sf = Se*10\n",
    "Sy = Sy*10\n",
    "Nf = ((d**3)*pi)/(kf*(Ma/Se)*32)\n",
    "print(\"Nf =\", Nf)\n",
    "kfsm = kts\n",
    "d = (((32*Nf)/pi)*((kfsm*(Ma/Sf))**2+((3/4)*(kfsm*(Tm/Sy)))**2)**(1/2)**(1/3))*25.4\n",
    "print(\"diametro do ponto A =\", d)"
   ]
  },
  {
   "cell_type": "markdown",
   "metadata": {},
   "source": [
    "Rolamento da seção J"
   ]
  },
  {
   "cell_type": "code",
   "execution_count": 451,
   "metadata": {},
   "outputs": [
    {
     "name": "stdout",
     "output_type": "stream",
     "text": [
      "qt flexão =  0.763338635757893\n",
      "kf = 1.6051803437424352\n",
      "Nf = 14.432915071663187\n",
      "diametro do ponto A = 106.58734230356559\n"
     ]
    }
   ],
   "source": [
    "d = 115*0.0393701\n",
    "a = 0.10655                         #raiz a\n",
    "r = 0.11811                         #entalhe em pol (in) - 0,3 mm\n",
    "qt = 1/(1+(a/sqrt(r)))              #sensibilidade ao entalhe flexão\n",
    "print(\"qt flexão = \", qt)\n",
    "kt = 3.23\n",
    "kts = 1+(qt*(kt-1))                  #fator de concentrações de tensões em fagiga dinâmico - flexão\n",
    "print(\"kf =\", kf)\n",
    "Ma = MB*101.972\n",
    "Sf = Se*10\n",
    "Sy = Sy*10\n",
    "Nf = ((d**3)*pi)/(kf*(Ma/Se)*32)\n",
    "print(\"Nf =\", Nf)\n",
    "kfsm = kts\n",
    "d = (((32*Nf)/pi)*((kfsm*(Ma/Sf))**2+((3/4)*(kfsm*(Tm/Sy)))**2)**(1/2)**(1/3))*25.4\n",
    "print(\"diametro do ponto A =\", d)"
   ]
  },
  {
   "cell_type": "markdown",
   "metadata": {},
   "source": [
    "Escolhido: 6824 ZZ VV DD > NKF (página 159)<br>\n",
    "C = 28900\n",
    "C0 = 35500\n",
    "f0 = 17.3\n",
    "72 rpm"
   ]
  },
  {
   "cell_type": "code",
   "execution_count": 452,
   "metadata": {},
   "outputs": [
    {
     "name": "stdout",
     "output_type": "stream",
     "text": [
      "rolamento em A\n",
      "4.720942688944032 kN\n",
      "f0*Fa/C0 0.015833967136150238\n",
      "Fa/W 6.882453104707001\n",
      "rolamento em J\n",
      "1.4828751517502172 kN\n",
      "f0*Fa/C0 0.015833967136150238\n",
      "Fa/W 21.911262474333864\n"
     ]
    }
   ],
   "source": [
    "# O primeiro e o segundo rolamento estará localizado na seção do eixo com diâmetro de 115 mm\n",
    "d = 0.12\n",
    "C = 28900    #carga dinâmica\n",
    "C0 = 35500   #carga estática\n",
    "f0 = 17.3   #fator de cálculo\n",
    "Tmax = 3.899\n",
    "Ta = Tmax/2\n",
    "Fa = Ta/(d/2)\n",
    "print(\"rolamento em A\")\n",
    "#carga total no rolamento\n",
    "W = sqrt(R1y**2+R1x**2)\n",
    "print(W, \"kN\")\n",
    "print(\"f0*Fa/C0\",f0*Fa/C0)\n",
    "print(\"Fa/W\",Fa/W)\n",
    "\n",
    "\n",
    "print(\"rolamento em J\")\n",
    "W = sqrt(R2y**2+R2x**2)\n",
    "print(W, \"kN\")\n",
    "print(\"f0*Fa/C0\",f0*Fa/C0)\n",
    "print(\"Fa/W\",Fa/W)"
   ]
  },
  {
   "cell_type": "code",
   "execution_count": 453,
   "metadata": {},
   "outputs": [
    {
     "name": "stdout",
     "output_type": "stream",
     "text": [
      "carga dinâmica equivalente 75.56124341831344\n",
      "vida em fadiga = 55949503947729.375 ciclos\n",
      "vida em fadiga = 12951274061.974392 horas\n"
     ]
    }
   ],
   "source": [
    "X = 0.56\n",
    "Y = 2.3\n",
    "P = (X*W) + (Y*Fa)\n",
    "print(\"carga dinâmica equivalente\", P)\n",
    "\n",
    "L10 = (10**6)*(C/P)**3\n",
    "print(\"vida em fadiga =\", L10, \"ciclos\")\n",
    "\n",
    "L10H = ((10**6)/(60*72))*(C/P)**3\n",
    "print(\"vida em fadiga =\", L10H, \"horas\")"
   ]
  }
 ],
 "metadata": {
  "kernelspec": {
   "display_name": "Python 3.10.7 64-bit",
   "language": "python",
   "name": "python3"
  },
  "language_info": {
   "codemirror_mode": {
    "name": "ipython",
    "version": 3
   },
   "file_extension": ".py",
   "mimetype": "text/x-python",
   "name": "python",
   "nbconvert_exporter": "python",
   "pygments_lexer": "ipython3",
   "version": "3.10.7"
  },
  "orig_nbformat": 4,
  "vscode": {
   "interpreter": {
    "hash": "1cea4506632fe95fa0a52c6706177ad7ab5386cc316bf87ad8dd5966739875d1"
   }
  }
 },
 "nbformat": 4,
 "nbformat_minor": 2
}
