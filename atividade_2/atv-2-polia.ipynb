{
 "cells": [
  {
   "cell_type": "code",
   "execution_count": 6,
   "metadata": {},
   "outputs": [],
   "source": [
    "from numpy import log as ln, sqrt, sin, cos, tan, radians, pi, sqrt, ceil, arcsin\n",
    "import pandas as pd"
   ]
  },
  {
   "cell_type": "code",
   "execution_count": 7,
   "metadata": {},
   "outputs": [],
   "source": [
    "#parte do trabalho 1\n",
    "Pe = 30000                      #W\n",
    "ωp = 1180                       #rpm\n",
    "ωp_conv = (1180*2*pi)/60        #rpm  escolhido no motor elétrico (entrada) - rad/s\n",
    "Ps = 29400                      #W\n",
    "ωc = 72                         #rpm  \n",
    "ωc_conv = (72*2*pi)/60          #rpm (saída) -> rad/s\n",
    "mg = 4"
   ]
  },
  {
   "cell_type": "code",
   "execution_count": 8,
   "metadata": {},
   "outputs": [
    {
     "name": "stdout",
     "output_type": "stream",
     "text": [
      "ω_mot = 295.0 rad/s, ω_mov = 72 rad/s\n"
     ]
    }
   ],
   "source": [
    "#parte do trabalho 2\n",
    "ω_mot = ωp/mg                 #rpm  p/ rad/s\n",
    "𝜔_mov_p = ωc                  #rpm p/ rad/s\n",
    "t_trab = 12*60*16*5*52*20    \n",
    "fs = 1.8\n",
    "H_nom = Pe*fs\n",
    "print(\"ω_mot =\", ω_mot, \"rad/s, ω_mov =\", ω_mov_p, \"rad/s\")\n"
   ]
  },
  {
   "cell_type": "markdown",
   "metadata": {},
   "source": [
    "ESPECIFICAÇÕES PARA O SISTEMA:<br> \n",
    " Correia Plana A – 3;<br> \n",
    " Material: poliamida;<br> \n",
    " Espessura, t: 3,3 mm;<br> \n",
    " Largura: b: 250,0 mm;<br> \n",
    " Fator de Atrito, f: 0,8;<br> \n",
    " Peso Específico, γ: 11400 N/m³;<br> \n",
    " Tração Permissível, Fa: 18000,0 N/m;<br> \n",
    " Fator de Segurança, fs: 1,8;<br> \n",
    " Fator de Serviço, Ks, para choques leves: 1,25.<br> \n",
    " Fator de Correção de Velocidade, Cv: 1."
   ]
  },
  {
   "cell_type": "code",
   "execution_count": 9,
   "metadata": {},
   "outputs": [],
   "source": [
    "γ = 11400\n",
    "b = 0.25\n",
    "t = 33*10**-3\n",
    "f = 0.8\n",
    "Fa = 18000\n",
    "g = 9.81\n",
    "Ks = 1.25\n",
    "Cv = 1"
   ]
  },
  {
   "cell_type": "markdown",
   "metadata": {},
   "source": [
    "CONSIDERAÇÕES:<br> \n",
    " Diâmetro para polia motora, d: 110,0 mm;<br> \n",
    " Distância entre centros, C: 650,0 mm;<br> \n",
    " Fator de Correção de Polia, Cp: 0,7.<br> "
   ]
  },
  {
   "cell_type": "code",
   "execution_count": 10,
   "metadata": {},
   "outputs": [
    {
     "name": "stdout",
     "output_type": "stream",
     "text": [
      "D_mot = 0.11 D_mov = 0.44\n"
     ]
    }
   ],
   "source": [
    "Cp = 0.7\n",
    "D_mot = 110/1000   #mm p m\n",
    "D_mov = D_mot*mg   #m\n",
    "DistCent = 650/1000      #mm p m\n",
    "print(\"D_mot =\", D_mot, \"D_mov =\", D_mov)"
   ]
  },
  {
   "cell_type": "code",
   "execution_count": 11,
   "metadata": {},
   "outputs": [
    {
     "name": "stdout",
     "output_type": "stream",
     "text": [
      "theta_D_mot = 3.643850066380507 rad, theta_D_mov 3.643850066380507 rad\n"
     ]
    }
   ],
   "source": [
    "theta_D_mot = pi - (2*sin((D_mot-D_mov)/(2*DistCent)))\n",
    "theta_D_mov = pi - (2*sin((D_mot-D_mov)/(2*DistCent)))\n",
    "print(\"theta_D_mot =\", theta_D_mot, \"rad, theta_D_mov\", theta_D_mov, \"rad\")"
   ]
  },
  {
   "cell_type": "code",
   "execution_count": 12,
   "metadata": {},
   "outputs": [
    {
     "name": "stdout",
     "output_type": "stream",
     "text": [
      "Lp = 1.7791571598917586 m\n"
     ]
    }
   ],
   "source": [
    "Lp = sqrt(4*DistCent**2 - (D_mov + D_mot)**2) + (D_mov*theta_D_mot - D_mot*theta_D_mov)/2\n",
    "print (\"Lp =\", Lp, \"m\")"
   ]
  },
  {
   "cell_type": "code",
   "execution_count": 13,
   "metadata": {},
   "outputs": [
    {
     "name": "stdout",
     "output_type": "stream",
     "text": [
      "V = 1.6990780268164798\n",
      "Peso =  1128.6000000000001 N/m\n",
      "Tensão centrífuga =  332.1220312915661 N\n",
      "Hd = 121500.0 W\n",
      "Torque necessário =  65.55025622259419 N.m\n",
      "F1a - F2 = 1191.8228404108033 N, F1a =  3150.0 N\n",
      "F2 = 1958.1771595891967 N\n",
      "Fi = 2221.9665485030323 N\n",
      "fi = 0.6872839919075067\n"
     ]
    }
   ],
   "source": [
    "φ = f\n",
    "\n",
    "V = (D_mot*pi*ω_mot)/60\n",
    "print(\"V =\", V)\n",
    "\n",
    "ω = 12 * γ * b * t\n",
    "print(\"Peso = \", ω, \"N/m\")\n",
    "\n",
    "Fc = (ω/g)*V**2\n",
    "print(\"Tensão centrífuga = \", Fc, \"N\")\n",
    "\n",
    "#potencia de projeto\n",
    "Hd = H_nom*Ks*fs\n",
    "print(\"Hd =\", Hd, \"W\")\n",
    "\n",
    "T = (H_nom*Ks*fs)/(2*pi*ω_mot)\n",
    "print(\"Torque necessário = \", T, \"N.m\")\n",
    "\n",
    "#F1a - F2 = deltaF21\n",
    "deltaF21 = (2*T)/D_mot\n",
    "F1a = b*Fa*Cp*Cv\n",
    "print(\"F1a - F2 =\", deltaF21, \"N, F1a = \", F1a, \"N\")\n",
    "\n",
    "F2 = F1a - (2*T)/D_mot\n",
    "print(\"F2 =\", F2, \"N\")\n",
    "\n",
    "#tração inicial necessária do sistema\n",
    "Fi = (F1a + F2)/2 - Fc\n",
    "print(\"Fi =\", Fi, \"N\")\n",
    "\n",
    "#evolção da fricção\n",
    "fi = (1/φ)*ln((F1a-Fc)/(F2-Fc))\n",
    "print(\"fi =\", fi)"
   ]
  },
  {
   "cell_type": "code",
   "execution_count": 14,
   "metadata": {},
   "outputs": [
    {
     "name": "stdout",
     "output_type": "stream",
     "text": [
      "o prof vai ficar feliz!\n"
     ]
    }
   ],
   "source": [
    "if fi < f:\n",
    "  print(\"o prof vai ficar feliz!\")\n",
    "else:\n",
    "  print(\"refaça suas contas! :c\")"
   ]
  }
 ],
 "metadata": {
  "kernelspec": {
   "display_name": "Python 3.10.7 64-bit",
   "language": "python",
   "name": "python3"
  },
  "language_info": {
   "codemirror_mode": {
    "name": "ipython",
    "version": 3
   },
   "file_extension": ".py",
   "mimetype": "text/x-python",
   "name": "python",
   "nbconvert_exporter": "python",
   "pygments_lexer": "ipython3",
   "version": "3.10.7"
  },
  "orig_nbformat": 4,
  "vscode": {
   "interpreter": {
    "hash": "1cea4506632fe95fa0a52c6706177ad7ab5386cc316bf87ad8dd5966739875d1"
   }
  }
 },
 "nbformat": 4,
 "nbformat_minor": 2
}
