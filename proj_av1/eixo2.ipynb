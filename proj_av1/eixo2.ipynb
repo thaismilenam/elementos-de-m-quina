{
 "cells": [
  {
   "cell_type": "code",
   "execution_count": 549,
   "metadata": {},
   "outputs": [],
   "source": [
    "from numpy import sqrt, sin, cos, tan, radians, pi, sqrt, interp\n",
    "import numpy as np\n",
    "import matplotlib.pyplot as plt\n",
    "import pandas as pd"
   ]
  },
  {
   "cell_type": "markdown",
   "metadata": {},
   "source": [
    "# Cálculo das engrenagens"
   ]
  },
  {
   "cell_type": "code",
   "execution_count": 550,
   "metadata": {},
   "outputs": [
    {
     "name": "stdout",
     "output_type": "stream",
     "text": [
      "Em rad/s: ωp = 123.56931104119853 ωc = 7.5398223686155035\n",
      "mg intermediária = 16.38888888888889\n",
      "mg entrada e saida = 4.0483192671637065\n",
      "passo diametral 0.3333333333333333\n",
      "a = 3 b = 0.75 pc = 9.42477796076938 pb = 8.856394302280648 \n",
      "pd = 0.3333333333333333 Fc = 42 Fp = 42\n",
      "\n",
      "pinhão\n",
      "Diâmetro primitivo do pinhão = 63 \n",
      "Diâmetro externo do pinhão = 69 \n",
      "Diâmetro raiz do pinhão = 61.5 \n",
      "Diâmetro interno do pinhão = 56.297999999999995 \n",
      "Velocidade linear do pinhão 407.6146617649905\n",
      "\n",
      "coroa\n",
      "Diâmetro primitivo da coroa = 255 \n",
      "Diâmetro externo da coroa = 261 \n",
      "Diâmetro raiz da coroa = 253.5 \n",
      "Diâmetro interno da coroa = 248.298 \n",
      "Velocidade linear da coroa 100.66996489111145\n"
     ]
    }
   ],
   "source": [
    "Pe = 30000                      #W\n",
    "ωp = (1180*2*pi)/60                #rpm  escolhido no motor elétrico (entrada) - rad/s\n",
    "Ps = 29400                      #W  \n",
    "ωc = (72*2*pi)/60                  #rpm (saída) -> rad/s\n",
    "print(\"Em rad/s: ωp =\", ωp, \"ωc =\", ωc)\n",
    "\n",
    "mg1 = (ωp/ωc)\n",
    "print(\"mg intermediária =\", mg1)\n",
    "mg2 = sqrt(mg1)\n",
    "print(\"mg entrada e saida =\",mg2)\n",
    "\n",
    "Tent = Ps/ωp  #torque entrada\n",
    "Tsai = Ps/ωc  #torque saida\n",
    "\n",
    "Nc = 85\n",
    "Np = 21\n",
    "\n",
    "m = 3  #adotado\n",
    "pd = 1/m\n",
    "theta = 20   \n",
    "print(\"passo diametral\", pd)\n",
    "\n",
    "a = m                           #adendo\n",
    "b = 0.25*m                      #dedendo\n",
    "pc = pi*m                       #passo circular\n",
    "pb = pc*cos(radians(theta))     #passo de base\n",
    "Fc = 14*m                       #largura da face 6 a 16*m  \n",
    "Fp = 14*m\n",
    "\n",
    "print(\"a =\", a, \"b =\", b, \"pc =\", pc, \"pb =\", pb, \"\\npd =\", pd, \"Fc =\", Fc,  \"Fp =\", Fp)\n",
    "\n",
    "\"\"\"*pinhão*\"\"\"\n",
    "print(\"\\npinhão\")\n",
    "\n",
    "dpp = m*Np               #diâmetro primitivo\n",
    "dep = dpp + a*2          #diametro externo A = adendo, dp = diam. prim.\n",
    "drp = dpp - 2*b          #diametro raiz D = dedendo, dr = diam. raiz\n",
    "dip = m*(21-2.234)\n",
    "Vp = (pi*ωp/30)*(dpp/2)  #velocidade linear\n",
    "print(\"Diâmetro primitivo do pinhão =\", dpp, \"\\nDiâmetro externo do pinhão =\", dep, \"\\nDiâmetro raiz do pinhão =\", drp, \"\\nDiâmetro interno do pinhão =\", dip, \"\\nVelocidade linear do pinhão\", Vp)\n",
    "\n",
    "\"\"\"*coroa*\"\"\"\n",
    "print(\"\\ncoroa\")\n",
    "\n",
    "dpc = m*Nc               #diâmetro primitivo\n",
    "dec = dpc + a*2          #diametro externo A = adendo, dp = diam. prim.\n",
    "drc = dpc - 2*b          #diametro raiz D = dedendo, dr = diam. raiz\n",
    "dbc = dpc*cos(radians(theta))\n",
    "dic = m*(85-2.234)\n",
    "Vc = (pi*ωc/30)*(dpc/2)  #velocidade linear\n",
    "print(\"Diâmetro primitivo da coroa =\", dpc, \"\\nDiâmetro externo da coroa =\", dec, \"\\nDiâmetro raiz da coroa =\", drc, \"\\nDiâmetro interno da coroa =\", dic, \"\\nVelocidade linear da coroa\", Vc)"
   ]
  },
  {
   "cell_type": "code",
   "execution_count": 551,
   "metadata": {},
   "outputs": [
    {
     "name": "stdout",
     "output_type": "stream",
     "text": [
      "*pinhão 1*\n",
      "Torque = 237.92315221534184 Carga Tangencial = 7.553115943344186 Carga Radial = 2.7491093793387713 Carga Resultante = 8.037858099840314\n",
      "*coroa 1*\n",
      "Torque = 963.1888812176917 Carga Tangencial = 7.554422597785817 Carga Radial = 2.749584962661997 Carga Resultante = 8.039248612453404\n",
      "*pinhão 2*\n",
      "Torque = 963.1888812176917 Carga Tangencial = 7.553115943344186 Carga Radial = 2.7491093793387713 Carga Resultante = 8.037858099840314\n",
      "*coroa 2*\n",
      "Torque = 3899.296105751436 Carga Tangencial = 30.58271455491322 Carga Radial = 11.131197781048161 Carga Resultante = 32.5454450513142\n"
     ]
    }
   ],
   "source": [
    "print('*pinhão 1*')\n",
    "\n",
    "Tp1 = Tent             #torque\n",
    "Wtp1 = Tp1/(dpp/2)     #carga transmitida\n",
    "Wrp1 = Wtp1*tan(radians(theta))\n",
    "Wp1 = Wtp1/cos(radians(theta))\n",
    "print (\"Torque =\", Tp1, \"Carga Tangencial =\", Wtp1, \"Carga Radial =\", Wrp1, \"Carga Resultante =\", Wp1)\n",
    "\n",
    "print('*coroa 1*')\n",
    "\n",
    "Tc1 = Tp1*mg2            #torque\n",
    "Wtc1 = Tc1/(dpc/2) #carga transmitida\n",
    "Wrc1 = Wtc1*tan(radians(theta))\n",
    "Wc1 = Wtc1/cos(radians(theta))\n",
    "print (\"Torque =\", Tc1, \"Carga Tangencial =\", Wtc1, \"Carga Radial =\", Wrc1, \"Carga Resultante =\", Wc1)\n",
    "\n",
    "print('*pinhão 2*')\n",
    "\n",
    "Tp2 = Tc1             #torque\n",
    "Wtp2 = Tp1/(dpp/2) #carga transmitida\n",
    "Wrp2 = Wtp2*tan(radians(theta))\n",
    "Wp2 = Wtp2/cos(radians(theta))\n",
    "print (\"Torque =\", Tp2, \"Carga Tangencial =\", Wtp2, \"Carga Radial =\", Wrp2, \"Carga Resultante =\", Wp2)\n",
    "\n",
    "print('*coroa 2*')\n",
    "\n",
    "Tc2 = Tp1*mg1            #torque\n",
    "Wtc2 = Tc2/(dpc/2)      #carga transmitida\n",
    "Wrc2 = Wtc2*tan(radians(theta))\n",
    "Wc2 = Wtc2/cos(radians(theta))\n",
    "print (\"Torque =\", Tc2, \"Carga Tangencial =\", Wtc2, \"Carga Radial =\", Wrc2, \"Carga Resultante =\", Wc2)"
   ]
  },
  {
   "cell_type": "code",
   "execution_count": 552,
   "metadata": {},
   "outputs": [
    {
     "name": "stdout",
     "output_type": "stream",
     "text": [
      "0.046 0.11800000000000001 0.16400000000000003\n"
     ]
    }
   ],
   "source": [
    "#nesses pontos se considera o inicio e o final do eixo no meio do rolamento\n",
    "\n",
    "d = 0.010+0.015+(Fc/2000)\n",
    "g = 0.010+0.015+(Fc/1000)+0.030+(Fp/2000)\n",
    "j = 0.010+0.015+(Fc/1000)+0.030+(Fp/1000)+0.015+0.010\n",
    "print(d, g, j)"
   ]
  },
  {
   "cell_type": "markdown",
   "metadata": {},
   "source": [
    "# Cálculo de elementos finitos - reações nos planos"
   ]
  },
  {
   "cell_type": "code",
   "execution_count": 553,
   "metadata": {},
   "outputs": [
    {
     "name": "stdout",
     "output_type": "stream",
     "text": [
      "R1y + R2y = 5.498694342000768\n",
      "R1y = 2.7494515673396287 R2y = 2.749242774661139\n",
      "R1x + R2x = -0.0013066544416311388\n",
      "R1x = 2.1830587211686567 R2x = 3.315635620832111\n"
     ]
    }
   ],
   "source": [
    "#plano xy calculos\n",
    "somareacaoxy = Wrc1 + Wrp2\n",
    "print(\"R1y + R2y =\", somareacaoxy)\n",
    "\n",
    "R2y = (Wrc1*d + Wrp2*g)/j\n",
    "R1y = somareacaoxy - R2y\n",
    "print(\"R1y =\", R1y, \"R2y =\", R2y)\n",
    "\n",
    "#plano xz calculos\n",
    "somareacaoxz = Wtp2 - Wtc1\n",
    "print(\"R1x + R2x =\", somareacaoxz)\n",
    "\n",
    "R2x = (Wtp2*g - Wtc1*d)/j\n",
    "R1x = somareacaoxy - R2x\n",
    "print(\"R1x =\", R1x, \"R2x =\", R2x)"
   ]
  },
  {
   "cell_type": "markdown",
   "metadata": {},
   "source": [
    "# Cálculo de cortante, momento e torque - xy"
   ]
  },
  {
   "cell_type": "code",
   "execution_count": 554,
   "metadata": {},
   "outputs": [
    {
     "name": "stdout",
     "output_type": "stream",
     "text": [
      "V1y -2.7494515673396287\n",
      "M1y = 2.7494515673396287 * x,  0 < x < 0.046 \n",
      "\n",
      "V2y 0.0001333953223681128\n",
      "M2y = 0.12648090828245184 + -0.0001333953223681128 * x, 0.046 < x < 0.11800000000000001 \n",
      "\n",
      "V3y 2.749242774661139\n",
      "M3y = 0.12648090828245184 + 0.324394906761975 - 2.749242774661139 * x\n",
      "M3y = 0.45087581504442686 - 2.749242774661139 * x, 0.11800000000000001 < x < 0.16400000000000003 \n",
      "\n"
     ]
    }
   ],
   "source": [
    "V1y = -R1y\n",
    "print(\"V1y\", V1y)\n",
    "print(\"M1y =\", -V1y,\"* x,  0 < x <\", d,\"\\n\")\n",
    "\n",
    "V2y = Wrc1 - R1y\n",
    "print(\"V2y\", V2y)\n",
    "print(\"M2y =\", Wrc1*d, \"+\", -V2y, \"* x,\", d, \"< x <\", g,\"\\n\")\n",
    "\n",
    "V3y = Wrc1  + Wrp2 - R1y\n",
    "print(\"V3y\", V3y)\n",
    "print(\"M3y =\", Wrc1*d, \"+\", Wrp2*g, \"-\", V3y, \"* x\")\n",
    "print(\"M3y =\", Wrc1*d + Wrp2*g, \"-\", V3y, \"* x,\", g, \"< x <\", j,\"\\n\")"
   ]
  },
  {
   "cell_type": "code",
   "execution_count": 555,
   "metadata": {},
   "outputs": [
    {
     "name": "stdout",
     "output_type": "stream",
     "text": [
      "ponto 0 M1y = 0.0\n",
      "ponto d M1y = 0.12647477209762292\n",
      "ponto d M2y = 0.12647477209762292\n",
      "ponto g M2y = 0.1264651676344124\n",
      "ponto g M3y = 0.12646516763441246\n",
      "ponto j M3y = 0.0\n"
     ]
    }
   ],
   "source": [
    "#momento nos pontos criticos\n",
    "print(\"ponto 0 M1y =\", 2.7494515673396287 * 0)\n",
    "print(\"ponto d M1y =\", 2.7494515673396287 * d)\n",
    "print(\"ponto d M2y =\", 0.12648090828245184 + -0.0001333953223681128 * d)\n",
    "print(\"ponto g M2y =\", 0.12648090828245184 + -0.0001333953223681128 * g)\n",
    "print(\"ponto g M3y =\", 0.45087581504442686 - 2.749242774661139 * g)\n",
    "print(\"ponto j M3y =\", 0.45087581504442686 - 2.749242774661139 * j)"
   ]
  },
  {
   "cell_type": "markdown",
   "metadata": {},
   "source": [
    "# Cálculo de cortante, momento e torque - xz"
   ]
  },
  {
   "cell_type": "code",
   "execution_count": 556,
   "metadata": {},
   "outputs": [
    {
     "name": "stdout",
     "output_type": "stream",
     "text": [
      "V1x = -2.1830587211686567\n",
      "M1x = 2.1830587211686567 * x,  0 < x < 0.046 \n",
      "\n",
      "V2x = -9.737481318954474\n",
      "M2x =  -0.3475034394981476 + 9.737481318954474 * x, 0.046 < x < 0.11800000000000001 \n",
      "\n",
      "V3x = -6.988371939615702\n",
      "M3x = -0.3475034394981476 + 0.324394906761975 + 6.988371939615702 * x\n",
      "M3x = -0.023108532736172582 + 6.988371939615702 * x, 0.11800000000000001 < x < 0.16400000000000003 \n",
      "\n"
     ]
    }
   ],
   "source": [
    "V1x = -R1x\n",
    "print(\"V1x =\", V1x)\n",
    "print(\"M1x =\", -V1x,\"* x,  0 < x <\", d, \"\\n\")\n",
    "\n",
    "V2x = -Wtc1 - R1x\n",
    "print(\"V2x =\", V2x)\n",
    "print(\"M2x = \", -Wtc1*d,\"+\", -V2x, \"* x,\", d,\"< x <\",g,\"\\n\")\n",
    "\n",
    "V3x = -Wtc1  + Wrp2 - R1x\n",
    "print(\"V3x =\", V3x)\n",
    "print(\"M3x =\", -Wtc1*d,  \"+\", Wrp2*g, \"+\", -V3x, \"* x\")\n",
    "print(\"M3x =\", -Wtc1*d + Wrp2*g, \"+\", -V3x, \"* x,\",g,\"< x <\",j,\"\\n\")"
   ]
  },
  {
   "cell_type": "code",
   "execution_count": 557,
   "metadata": {},
   "outputs": [
    {
     "name": "stdout",
     "output_type": "stream",
     "text": [
      "ponto 0 M1x = 0.0\n",
      "ponto d M1x = 0.1004207011737582\n",
      "ponto d M2x = 0.10042070117375818\n",
      "ponto g M2x = 0.8015193561384806\n",
      "ponto g M3x = 0.8015193561384804\n",
      "ponto j M3x = 1.1229844653608028\n"
     ]
    }
   ],
   "source": [
    "#momento nos pontos criticos\n",
    "print(\"ponto 0 M1x =\", 2.1830587211686567 * 0)\n",
    "print(\"ponto d M1x =\", 2.1830587211686567 * d)\n",
    "print(\"ponto d M2x =\", -0.3475034394981476 + 9.737481318954474 * d)\n",
    "print(\"ponto g M2x =\", -0.3475034394981476 + 9.737481318954474 * g)\n",
    "print(\"ponto g M3x =\", -0.023108532736172582 + 6.988371939615702 * g)\n",
    "print(\"ponto j M3x =\", -0.023108532736172582 + 6.988371939615702 * j)"
   ]
  },
  {
   "cell_type": "markdown",
   "metadata": {},
   "source": [
    "# Resultantes de cortante, momento e torque\n"
   ]
  },
  {
   "cell_type": "code",
   "execution_count": 558,
   "metadata": {},
   "outputs": [
    {
     "name": "stdout",
     "output_type": "stream",
     "text": [
      "Sequência dos pontos críticos:  [0.015 0.025 0.04  0.061 0.082 0.112 0.133 0.154 0.169 0.179]\n"
     ]
    }
   ],
   "source": [
    "a = 0.015\n",
    "b = 0.025 \n",
    "c = 0.04  \n",
    "d = 0.04+(Fc/2000)\n",
    "e = 0.04+(Fc/1000)\n",
    "f = 0.04+(Fc/1000)+0.03\n",
    "g = 0.04+(Fc/1000)+0.03+(Fp/2000)\n",
    "h = 0.04+(Fc/1000)+0.03+(Fp/1000)\n",
    "i = 0.04+(Fc/1000)+0.03+(Fp/1000)+0.015\n",
    "j = 0.04+(Fc/1000)+0.03+(Fp/1000)+0.025\n",
    "\n",
    "pontos = np.array([a,b,c,d,e,f,g,h,i,j])\n",
    "print(\"Sequência dos pontos críticos: \",pontos)"
   ]
  },
  {
   "cell_type": "code",
   "execution_count": 559,
   "metadata": {},
   "outputs": [
    {
     "name": "stdout",
     "output_type": "stream",
     "text": [
      "MA =  0.057076549315423594 MB =  0.09512758219237265 MC =  0.15220413150779624 MD =  0.26325662890384255 ME =  0.4546810260499515 MF =  0.7479998684379278 MG =  0.9273060449895049 MH =  1.0753837978977288 MI =  1.1838185988980225 MJ =  1.2570171319144237\n"
     ]
    }
   ],
   "source": [
    "MA = sqrt((2.55711742862862 * a)**2 + (2.8177937267000823 * a)**2)\n",
    "MB = sqrt((2.55711742862862 * b)**2 + (2.8177937267000823 * b)**2)\n",
    "MC = sqrt((2.55711742862862 * c)**2 + (2.8177937267000823 * c)**2)\n",
    "MD = sqrt((0.14572800302108582 + 0.06820876403808551 * d)**2 + (-0.4003843976826483 + 10.111540026414437 * d)**2)\n",
    "ME = sqrt((0.14572800302108582 + 0.06820876403808551 * e)**2 + (-0.4003843976826483 + 10.111540026414437 * e)**2)\n",
    "MF = sqrt((0.14572800302108582 + 0.06820876403808551 * f)**2 + (-0.4003843976826483 + 10.111540026414437 * f)**2)\n",
    "MG = sqrt((0.48524301136942405 - 2.6809006153006854 * g)**2+(-0.06086938933431002 + 7.362430647075666 * g)**2)\n",
    "MH = sqrt((0.48524301136942405 - 2.6809006153006854 * h)**2+(-0.06086938933431002 + 7.362430647075666 * h)**2)\n",
    "MI = sqrt((0.48524301136942405 - 2.6809006153006854 * i)**2+(-0.06086938933431002 + 7.362430647075666 * i)**2)\n",
    "MJ = sqrt((0.48524301136942405 - 2.6809006153006854 * j)**2+(-0.06086938933431002 + 7.362430647075666 * j)**2)\n",
    "\n",
    "print(\"MA = \", MA,\"MB = \", MB,\"MC = \", MC,\"MD = \", MD,\"ME = \", ME,\"MF = \", MF,\"MG = \", MG,\"MH = \", MH,\"MI = \", MI, \"MJ = \", MJ)"
   ]
  },
  {
   "cell_type": "code",
   "execution_count": 560,
   "metadata": {},
   "outputs": [
    {
     "name": "stdout",
     "output_type": "stream",
     "text": [
      "R1 =  3.5107305936538156 \n",
      "R2 =  4.3071771967446635 \n",
      "Fresc =  8.039248612453404 \n",
      "Fresp =  8.037858099840314\n"
     ]
    }
   ],
   "source": [
    "R1 = sqrt(R1y**2 + R1x**2)\n",
    "R2 = sqrt(R2y**2 + R2x**2)\n",
    "Fresc = sqrt(Wrc1**2 + Wtc1**2)\n",
    "Fresp = sqrt(Wrp2**2 + Wtp2**2)\n",
    "print(\"R1 = \",R1, \"\\nR2 = \",R2, \"\\nFresc = \",Fresc, \"\\nFresp = \",Fresp)"
   ]
  },
  {
   "cell_type": "markdown",
   "metadata": {},
   "source": [
    "O material escolhido é o aço SAE 1045"
   ]
  },
  {
   "cell_type": "code",
   "execution_count": 561,
   "metadata": {},
   "outputs": [
    {
     "name": "stdout",
     "output_type": "stream",
     "text": [
      "Sei = 282.5\n",
      "Se = 228.82500000000002\n"
     ]
    }
   ],
   "source": [
    "Sut = 565        #Mpa > kpsi\n",
    "Sy = 310         #Mpa > kpsi\n",
    "\n",
    "Sei = Sut*0.5\n",
    "print(\"Sei =\", Sei)\n",
    "Ccarreg = 1 #(Flexão e torção)\n",
    "Ctamanho = 1 #(como não sabe o tamanho da peça adotado 1,0)\n",
    "Csuperf = 0.81 #(usinado)\n",
    "Ctemp = 1 #(Temperatura baixa)\n",
    "Cconf = 1 #(50%)\n",
    "Se = Ccarreg*Ctamanho*Csuperf*Ctemp*Cconf*Sei\n",
    "print(\"Se =\", Se)"
   ]
  },
  {
   "cell_type": "markdown",
   "metadata": {},
   "source": [
    "### Ponto crítico A, B, E, F, I, J"
   ]
  },
  {
   "cell_type": "code",
   "execution_count": 562,
   "metadata": {},
   "outputs": [
    {
     "name": "stdout",
     "output_type": "stream",
     "text": [
      "qt flexão =  0.65242211710977\n",
      "kf = 1.848148752242701\n",
      "qt torção =  0.5583472920156337\n",
      "kf = 1.5583472920156338\n"
     ]
    }
   ],
   "source": [
    "a = 0.10655                          #raiz a\n",
    "r = 0.04                             # em pol (in)\n",
    "qt = 1/(1+(a/sqrt(r)))               #sensibilidade ao entalhe flexão\n",
    "print(\"qt flexão = \", qt)\n",
    "kt = 2.3                             #fator de concentrações de tensões teórico estático - flexão\n",
    "kf = 1+(qt*(kt-1))                   #fator de concentrações de tensões em fagiga dinâmico - flexão\n",
    "print(\"kf =\", kf)\n",
    "\n",
    "a = 0.0791                           #raiz a\n",
    "r = 0.01                             # em pol (in)\n",
    "qt = 1/(1+(a/sqrt(r)))               #sensibilidade ao entalhe torção\n",
    "print(\"qt torção = \", qt)\n",
    "kts = 2                              #fator de concentrações de tensões teórico estático - torção\n",
    "kf = 1+(qt*(kts-1))                  #fator de concentrações de tensões em fagiga dinâmico - torção\n",
    "print(\"kf =\", kf)"
   ]
  },
  {
   "cell_type": "code",
   "execution_count": 563,
   "metadata": {},
   "outputs": [
    {
     "name": "stdout",
     "output_type": "stream",
     "text": [
      "kfsm 1.5583472920156338\n",
      "diametro do ponto A = 0.002495345193192601\n",
      "kfsm 1.5583472920156338\n",
      "diametro do ponto B = 0.0056142735668766154\n",
      "kfsm 1.5583472920156338\n",
      "diametro do ponto E = 4.154353561606802\n",
      "kfsm 1.5583472920156338\n",
      "diametro do ponto F = 4.185516417934102\n",
      "kfsm 1.5583472920156338\n",
      "diametro do ponto I = 0.30723020545683755\n",
      "kfsm 1.5583472920156338\n",
      "diametro do ponto J = 0.33792886777072195\n"
     ]
    }
   ],
   "source": [
    "#diametro das seções mais solicitadas\n",
    "\n",
    "kfs = 1 + qt*(kts-1)\n",
    "kfsm = kfs\n",
    "Nf = 2.5\n",
    "Ma = MA\n",
    "Sf = Se\n",
    "Tm = 0\n",
    "print(\"kfsm\", kfsm)\n",
    "d = (((32*Nf)/pi)*((kfsm*(Ma/Sf))**2+((3/4)*(kfsm*(Tm/Sy)))**2)**(1/2)**(1/3))*25.4\n",
    "print(\"diametro do ponto A =\", d)\n",
    "\n",
    "#diametro das seções mais solicitadas\n",
    "\n",
    "kfs = 1 + qt*(kts-1)\n",
    "kfsm = kfs\n",
    "Nf = 2.5\n",
    "Ma = MB\n",
    "Sf = Se\n",
    "Tm = 0\n",
    "print(\"kfsm\", kfsm)\n",
    "d = (((32*Nf)/pi)*((kfsm*(Ma/Sf))**2+((3/4)*(kfsm*(Tm/Sy)))**2)**(1/2)**(1/3))*25.4\n",
    "print(\"diametro do ponto B =\", d)\n",
    "\n",
    "#diametro das seções mais solicitadas\n",
    "\n",
    "kfs = 1 + qt*(kts-1)\n",
    "kfsm = kfs\n",
    "Nf = 2.5\n",
    "Ma = ME\n",
    "Sf = Se\n",
    "Tm = (Tc1+Tp2)*0.001*5.7101\n",
    "print(\"kfsm\", kfsm)\n",
    "d = (((32*Nf)/pi)*((kfsm*(Ma/Sf))**2+((3/4)*(kfsm*(Tm/Sy)))**2)**(1/2)**(1/3))*25.4\n",
    "print(\"diametro do ponto E =\", d)\n",
    "\n",
    "\n",
    "#diametro das seções mais solicitadas\n",
    "\n",
    "kfs = 1 + qt*(kts-1)\n",
    "kfsm = kfs\n",
    "Nf = 2.5\n",
    "Ma = MF\n",
    "Sf = Se\n",
    "Tm = (Tc1+Tp2)*0.001*5.7101\n",
    "print(\"kfsm\", kfsm)\n",
    "d = (((32*Nf)/pi)*((kfsm*(Ma/Sf))**2+((3/4)*(kfsm*(Tm/Sy)))**2)**(1/2)**(1/3))*25.4\n",
    "print(\"diametro do ponto F =\", d)\n",
    "\n",
    "#diametro das seções mais solicitadas\n",
    "\n",
    "kfs = 1 + qt*(kts-1)\n",
    "kfsm = kfs\n",
    "Nf = 2.5\n",
    "Ma = MI\n",
    "Sf = Se\n",
    "Tm = 0\n",
    "print(\"kfsm\", kfsm)\n",
    "d = (((32*Nf)/pi)*((kfsm*(Ma/Sf))**2+((3/4)*(kfsm*(Tm/Sy)))**2)**(1/2)**(1/3))*25.4\n",
    "print(\"diametro do ponto I =\", d)\n",
    "\n",
    "#diametro das seções mais solicitadas\n",
    "\n",
    "kfs = 1 + qt*(kts-1)\n",
    "kfsm = kfs\n",
    "Nf = 2.5\n",
    "Ma = MJ\n",
    "Sf = Se\n",
    "Tm = 0\n",
    "print(\"kfsm\", kfsm)\n",
    "d = (((32*Nf)/pi)*((kfsm*(Ma/Sf))**2+((3/4)*(kfsm*(Tm/Sy)))**2)**(1/2)**(1/3))*25.4\n",
    "print(\"diametro do ponto J =\", d)"
   ]
  },
  {
   "cell_type": "markdown",
   "metadata": {},
   "source": [
    "### Ponto crítico D e G"
   ]
  },
  {
   "cell_type": "code",
   "execution_count": 564,
   "metadata": {},
   "outputs": [
    {
     "name": "stdout",
     "output_type": "stream",
     "text": [
      "\n",
      "qt flexão =  0.4841442749939482\n",
      "kf = 1.6051803437424352\n",
      "qt torção =  0.5583472920156337\n",
      "kf = 1.6051803437424352\n"
     ]
    }
   ],
   "source": [
    "print(\"\")\n",
    "\n",
    "a = 0.10655                         #raiz a\n",
    "r = 0.01                            # em pol (in)\n",
    "qt = 1/(1+(a/sqrt(r)))              #sensibilidade ao entalhe flexão\n",
    "print(\"qt flexão = \", qt)\n",
    "kt = 2.25                            #fator de concentrações de tensões teórico estático - flexão\n",
    "kf = 1+(qt*(kt-1))                  #fator de concentrações de tensões em fagiga dinâmico - flexão\n",
    "print(\"kf =\", kf)\n",
    "\n",
    "a = 0.0791                         #raiz a\n",
    "r = 0.01                            # em pol (in)\n",
    "qt = 1/(1+(a/sqrt(r)))              #sensibilidade ao entalhe torção\n",
    "print(\"qt torção = \", qt)\n",
    "kts = 3                            #fator de concentrações de tensões teórico estático - torção\n",
    "kfs = 1+(qt*(kts-1))                  #fator de concentrações de tensões em fagiga dinâmico - torção\n",
    "print(\"kf =\", kf)"
   ]
  },
  {
   "cell_type": "code",
   "execution_count": 565,
   "metadata": {},
   "outputs": [
    {
     "name": "stdout",
     "output_type": "stream",
     "text": [
      "kfsm 2.1166945840312676\n",
      "diametro do ponto D = 2.2511983211896545\n",
      "kfsm 2.1166945840312676\n",
      "diametro do ponto G = 2.4011626720054524\n"
     ]
    }
   ],
   "source": [
    "#diametro das seções mais solicitadas\n",
    "\n",
    "kfs = 1 + qt*(kts-1)\n",
    "kfsm = kfs\n",
    "Nf = 2.5\n",
    "Ma = MD\n",
    "Sf = Se\n",
    "Tm = (Tc1)*0.001*5.7101\n",
    "print(\"kfsm\", kfsm)\n",
    "d = (((32*Nf)/pi)*((kfsm*(Ma/Sf))**2+((3/4)*(kfsm*(Tm/Sy)))**2)**(1/2)**(1/3))*25.4\n",
    "print(\"diametro do ponto D =\", d)\n",
    "\n",
    "kfs = 1 + qt*(kts-1)\n",
    "kfsm = kfs\n",
    "Nf = 2.5\n",
    "Ma = MG\n",
    "Sf = Se\n",
    "Tm = (Tp2)*0.001*5.7101\n",
    "print(\"kfsm\", kfsm)\n",
    "d = (((32*Nf)/pi)*((kfsm*(Ma/Sf))**2+((3/4)*(kfsm*(Tm/Sy)))**2)**(1/2)**(1/3))*25.4\n",
    "print(\"diametro do ponto G =\", d)"
   ]
  },
  {
   "cell_type": "markdown",
   "metadata": {},
   "source": [
    "![chaveta](chaveta.png)"
   ]
  },
  {
   "cell_type": "markdown",
   "metadata": {},
   "source": [
    "### Chaveta ponto D - diâmetro 58"
   ]
  },
  {
   "cell_type": "code",
   "execution_count": 566,
   "metadata": {},
   "outputs": [],
   "source": [
    "d = 58                   #mm\n",
    "b = 18*0.001\n",
    "h = 11*0.001\n",
    "t1 = 7*0.001\n",
    "t2 = 4.4*0.001\n",
    "T = 3899.2961              #N.m\n",
    "fs = 1.1"
   ]
  },
  {
   "cell_type": "code",
   "execution_count": 567,
   "metadata": {},
   "outputs": [
    {
     "name": "stdout",
     "output_type": "stream",
     "text": [
      "força cisalhante = 134.45848620689657\n",
      "comprimento da chaveta = 4.591000404678464\n",
      "dimensionamento para falha por esmagamento = 11.927768937708569\n",
      "componentes do torque = 481.59444060884584\n",
      "componentes da força cisalhante = 16.60670484858089\n",
      "componentes da tensão cisalhamento = 77.34847301521319\n",
      "tensão de von misses: 𝜎a = 133.9714851502195\n",
      "Diagrama de Goodman modificado = 1.2156674123650795\n",
      "carga elástica = 696.1362571369189\n",
      "fator de segurança para carregamento estático = 0.44531511873117097\n",
      "As dimensões da chaveta foram selecionadas:\n",
      "Comprimento da chaveta: 11.927768937708569 \n",
      "Altura da chaveta: 11.0 \n",
      "Largura da chaveta: 18.000000000000004\n"
     ]
    }
   ],
   "source": [
    "F = (2*T)/d\n",
    "print(\"força cisalhante =\", F)\n",
    "\n",
    "L = (fs*F*sqrt(3))/(Sy*b*10)\n",
    "print(\"comprimento da chaveta =\", L)\n",
    "\n",
    "L = (fs*F)/((h-t1)*Sy*10)\n",
    "print(\"dimensionamento para falha por esmagamento =\", L)\n",
    "\n",
    "Tmax = Tc1\n",
    "Ta = Tmax/2\n",
    "print(\"componentes do torque =\", Ta)\n",
    "\n",
    "Fa = Ta/(d/2)\n",
    "print(\"componentes da força cisalhante =\", Fa)\n",
    "Fm = Fa\n",
    "\n",
    "𝜏a = (Fa)/(b*L)                #MPa\n",
    "print(\"componentes da tensão cisalhamento =\", 𝜏a)\n",
    "\n",
    "𝜎a = sqrt(3)*𝜏a\n",
    "print(\"tensão de von misses: 𝜎a =\", 𝜎a)\n",
    "\n",
    "𝜎m = 𝜎a\n",
    "Se = Ccarreg*Ctamanho*Csuperf*Ctemp*Cconf*Sei\n",
    "N = 1/((𝜎a/Se)+(𝜎m/Sut))\n",
    "print(\"Diagrama de Goodman modificado =\", N)\n",
    "\n",
    "Aesm = L*(h-t1)\n",
    "𝜎max = (Fm + Fa)/Aesm\n",
    "print(\"carga elástica =\", 𝜎max)\n",
    "\n",
    "fsel = Sy/𝜎max\n",
    "print(\"fator de segurança para carregamento estático =\", fsel)\n",
    "\n",
    "print(\"As dimensões da chaveta foram selecionadas:\\nComprimento da chaveta:\", L,\"\\nAltura da chaveta:\", h*1000, \"\\nLargura da chaveta:\", b*1000)"
   ]
  },
  {
   "cell_type": "markdown",
   "metadata": {},
   "source": [
    "### Chaveta ponto F - diâmetro 30"
   ]
  },
  {
   "cell_type": "code",
   "execution_count": 568,
   "metadata": {},
   "outputs": [],
   "source": [
    "d = 30                   #mm\n",
    "b = 12*0.001\n",
    "h = 8*0.001\n",
    "t1 = 5*0.001\n",
    "t2 = 3.3*0.001\n",
    "T = 3899.2961              #N.m\n",
    "fs = 1.1"
   ]
  },
  {
   "cell_type": "code",
   "execution_count": 569,
   "metadata": {},
   "outputs": [
    {
     "name": "stdout",
     "output_type": "stream",
     "text": [
      "força cisalhante = 259.95307333333335\n",
      "comprimento da chaveta = 13.313901173567547\n",
      "dimensionamento para falha por esmagamento = 30.74713770609319\n",
      "componentes do torque = 481.59444060884584\n",
      "componentes da força cisalhante = 32.106296040589726\n",
      "componentes da tensão cisalhamento = 87.01703214211489\n",
      "tensão de von misses: 𝜎a = 150.71792079399702\n",
      "Diagrama de Goodman modificado = 1.0805932554356257\n",
      "carga elástica = 696.1362571369191\n",
      "fator de segurança para carregamento estático = 0.44531511873117086\n",
      "As dimensões da chaveta foram selecionadas:\n",
      "Comprimento da chaveta: 30.74713770609319 \n",
      "Altura da chaveta: 8.0 \n",
      "Largura da chaveta: 12.0\n"
     ]
    }
   ],
   "source": [
    "F = (2*T)/d\n",
    "print(\"força cisalhante =\", F)\n",
    "\n",
    "L = (fs*F*sqrt(3))/(Sy*b*10)\n",
    "print(\"comprimento da chaveta =\", L)\n",
    "\n",
    "L = (fs*F)/((h-t1)*Sy*10)\n",
    "print(\"dimensionamento para falha por esmagamento =\", L)\n",
    "\n",
    "Tmax = Tp2\n",
    "Ta = Tmax/2\n",
    "print(\"componentes do torque =\", Ta)\n",
    "\n",
    "Fa = Ta/(d/2)\n",
    "print(\"componentes da força cisalhante =\", Fa)\n",
    "Fm = Fa\n",
    "\n",
    "𝜏a = (Fa)/(b*L)                #MPa\n",
    "print(\"componentes da tensão cisalhamento =\", 𝜏a)\n",
    "\n",
    "𝜎a = sqrt(3)*𝜏a\n",
    "print(\"tensão de von misses: 𝜎a =\", 𝜎a)\n",
    "\n",
    "𝜎m = 𝜎a\n",
    "Se = Ccarreg*Ctamanho*Csuperf*Ctemp*Cconf*Sei\n",
    "N = 1/((𝜎a/Se)+(𝜎m/Sut))\n",
    "print(\"Diagrama de Goodman modificado =\", N)\n",
    "\n",
    "Aesm = L*(h-t1)\n",
    "𝜎max = (Fm + Fa)/Aesm\n",
    "print(\"carga elástica =\", 𝜎max)\n",
    "\n",
    "fsel = Sy/𝜎max\n",
    "print(\"fator de segurança para carregamento estático =\", fsel)\n",
    "\n",
    "print(\"As dimensões da chaveta foram selecionadas:\\nComprimento da chaveta:\", L,\"\\nAltura da chaveta:\", h*1000, \"\\nLargura da chaveta:\", b*1000)"
   ]
  },
  {
   "cell_type": "markdown",
   "metadata": {},
   "source": [
    "## Cálculo do rolamento"
   ]
  },
  {
   "cell_type": "markdown",
   "metadata": {},
   "source": [
    "Rolamento da seção A"
   ]
  },
  {
   "cell_type": "code",
   "execution_count": 570,
   "metadata": {},
   "outputs": [
    {
     "name": "stdout",
     "output_type": "stream",
     "text": [
      "qt flexão =  0.763338635757893\n",
      "kf = 1.6051803437424352\n",
      "Nf = 1.1738981733171145\n",
      "diametro do ponto A = 0.10066007536357659\n"
     ]
    }
   ],
   "source": [
    "d = 20*0.0393701\n",
    "a = 0.10655                         #raiz a\n",
    "r = 0.11811                         #entalhe em pol (in) - 0,3 mm\n",
    "qt = 1/(1+(a/sqrt(r)))              #sensibilidade ao entalhe flexão\n",
    "print(\"qt flexão = \", qt)\n",
    "kt = 3\n",
    "kts = 1+(qt*(kt-1))                  #fator de concentrações de tensões em fagiga dinâmico - flexão\n",
    "print(\"kf =\", kf)\n",
    "Ma = MA*101.972\n",
    "Sf = Se*10\n",
    "Sy = Sy*10\n",
    "Tm = 0\n",
    "Nf = ((d**3)*pi)/(kf*(Ma/Se)*32)\n",
    "print(\"Nf =\", Nf)\n",
    "kfsm = kts\n",
    "d = (((32*Nf)/pi)*((kfsm*(Ma/Sf))**2+((3/4)*(kfsm*(Tm/Sy)))**2)**(1/2)**(1/3))*25.4\n",
    "print(\"diametro do ponto A =\", d)"
   ]
  },
  {
   "cell_type": "markdown",
   "metadata": {},
   "source": [
    "Rolamento da seção J"
   ]
  },
  {
   "cell_type": "code",
   "execution_count": 571,
   "metadata": {},
   "outputs": [
    {
     "name": "stdout",
     "output_type": "stream",
     "text": [
      "qt flexão =  0.763338635757893\n",
      "kf = 1.6051803437424352\n",
      "Nf = 0.05330242148615472\n",
      "diametro do ponto J = 0.6886218651037274\n"
     ]
    }
   ],
   "source": [
    "d = 20*0.0393701\n",
    "a = 0.10655                         #raiz a\n",
    "r = 0.11811                         #entalhe em pol (in) - 0,3 mm\n",
    "qt = 1/(1+(a/sqrt(r)))              #sensibilidade ao entalhe flexão\n",
    "print(\"qt flexão = \", qt)\n",
    "kt = 3.23\n",
    "kts = 1+(qt*(kt-1))                  #fator de concentrações de tensões em fagiga dinâmico - flexão\n",
    "print(\"kf =\", kf)\n",
    "Ma = MJ*101.972\n",
    "Sf = Se*10\n",
    "Sy = Sy*10\n",
    "Tm = 0\n",
    "Nf = ((d**3)*pi)/(kf*(Ma/Se)*32)\n",
    "print(\"Nf =\", Nf)\n",
    "kfsm = kts\n",
    "d = (((32*Nf)/pi)*((kfsm*(Ma/Sf))**2+((3/4)*(kfsm*(Tm/Sy)))**2)**(1/2)**(1/3))*25.4\n",
    "print(\"diametro do ponto J =\", d)"
   ]
  },
  {
   "cell_type": "code",
   "execution_count": 572,
   "metadata": {},
   "outputs": [
    {
     "name": "stdout",
     "output_type": "stream",
     "text": [
      "rolamento em A\n",
      "3.5107305936538156 kN\n",
      "f0*Fa/C0 0.30599746835443037\n",
      "Fa/W 55.529752226616885\n",
      "rolamento em J\n",
      "4.3071771967446635 kN\n",
      "f0*Fa/C0 0.30599746835443037\n",
      "Fa/W 45.261662359129765\n"
     ]
    }
   ],
   "source": [
    "d = 0.02\n",
    "C = 15900    #carga dinâmica\n",
    "C0 = 7900   #carga estática\n",
    "f0 = 12.4   #fator de cálculo\n",
    "Tmax = 3.899\n",
    "Ta = Tmax/2\n",
    "Fa = Ta/(d/2)\n",
    "print(\"rolamento em A\")\n",
    "#carga total no rolamento\n",
    "W = sqrt(R1y**2+R1x**2)\n",
    "print(W, \"kN\")\n",
    "print(\"f0*Fa/C0\",f0*Fa/C0)\n",
    "print(\"Fa/W\",Fa/W)\n",
    "\n",
    "\n",
    "print(\"rolamento em J\")\n",
    "W = sqrt(R2y**2+R2x**2)\n",
    "print(W, \"kN\")\n",
    "print(\"f0*Fa/C0\",f0*Fa/C0)\n",
    "print(\"Fa/W\",Fa/W)"
   ]
  },
  {
   "cell_type": "code",
   "execution_count": 573,
   "metadata": {},
   "outputs": [],
   "source": [
    "# para o rolamento A: e = 0,22 (mais próximo)\n",
    "# para o rolamento J: e = 0,22 (mais próximo)\n",
    "X = 0.56\n",
    "Y = 1.99"
   ]
  },
  {
   "cell_type": "code",
   "execution_count": 574,
   "metadata": {},
   "outputs": [
    {
     "name": "stdout",
     "output_type": "stream",
     "text": [
      "carga dinâmica equivalente 390.362519230177\n",
      "vida em fadiga = 67575152848.12426 ciclos\n",
      "vida em fadiga = 15642396.492621357 horas\n"
     ]
    }
   ],
   "source": [
    "P = (X*W) + (Y*Fa)\n",
    "print(\"carga dinâmica equivalente\", P)\n",
    "\n",
    "L10 = (10**6)*(C/P)**3\n",
    "print(\"vida em fadiga =\", L10, \"ciclos\")\n",
    "\n",
    "L10H = ((10**6)/(60*72))*(C/P)**3\n",
    "print(\"vida em fadiga =\", L10H, \"horas\")"
   ]
  }
 ],
 "metadata": {
  "kernelspec": {
   "display_name": "Python 3.10.7 64-bit",
   "language": "python",
   "name": "python3"
  },
  "language_info": {
   "codemirror_mode": {
    "name": "ipython",
    "version": 3
   },
   "file_extension": ".py",
   "mimetype": "text/x-python",
   "name": "python",
   "nbconvert_exporter": "python",
   "pygments_lexer": "ipython3",
   "version": "3.10.7"
  },
  "orig_nbformat": 4,
  "vscode": {
   "interpreter": {
    "hash": "1cea4506632fe95fa0a52c6706177ad7ab5386cc316bf87ad8dd5966739875d1"
   }
  }
 },
 "nbformat": 4,
 "nbformat_minor": 2
}
