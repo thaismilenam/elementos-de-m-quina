{
 "cells": [
  {
   "cell_type": "code",
   "execution_count": 21,
   "metadata": {},
   "outputs": [],
   "source": [
    "from numpy import sqrt, sin, cos, tan, radians, pi, sqrt, interp, log10, log, asarray, abs\n",
    "import matplotlib.pyplot as plt\n",
    "import pandas as pd"
   ]
  },
  {
   "cell_type": "code",
   "execution_count": 22,
   "metadata": {},
   "outputs": [
    {
     "name": "stdout",
     "output_type": "stream",
     "text": [
      "torque entrada 237.92315221534184 torque saída 3899.296105751436\n"
     ]
    }
   ],
   "source": [
    "Pe = 30000                      #W\n",
    "ωp = (1180*2*pi)/60                #rpm  escolhido no motor elétrico (entrada) - rad/s\n",
    "Ps = 29400                      #W  \n",
    "ωc = (72*2*pi)/60                  #rpm (saída) -> rad/s\n",
    "mg1 = (ωp/ωc)\n",
    "\n",
    "mg2 = sqrt(mg1)\n",
    "Tent = Ps/ωp  #torque entrada\n",
    "Tsai = Ps/ωc\n",
    "print(\"torque entrada\", Tent,\"torque saída\", Tsai)"
   ]
  },
  {
   "cell_type": "code",
   "execution_count": 23,
   "metadata": {},
   "outputs": [
    {
     "name": "stdout",
     "output_type": "stream",
     "text": [
      "Torque de saída = 3899.296105751436\n",
      "Força da coroa = 32.54544505131421\n",
      "Força do rolamento 1 = 16.272722525657105\n",
      "Força do rolamento 2 = 16.272722525657105\n"
     ]
    }
   ],
   "source": [
    "Nc = 85 \n",
    "Np = 21\n",
    "\n",
    "m = 3  #adotado\n",
    "pd = 1/m\n",
    "theta = 20   \n",
    "a = m                           #adendo\n",
    "b = 0.25*m                      #dedendo\n",
    "\n",
    "dpp = m*Np                          #diâmetro primitivo\n",
    "dep = dpp + a*2                     #diametro externo A = adendo, dp = diam. prim.\n",
    "drp = dpp - 2*b                     #diametro raiz D = dedendo, dr = diam. raiz\n",
    "Vp = (pi*ωp/30)*(dpp/2)             #velocidade linear\n",
    "\n",
    "dpc = m*Nc                          #diâmetro primitivo\n",
    "dec = dpc + a*2                     #diametro externo A = adendo, dp = diam. prim.\n",
    "drc = dpc - 2*b                     #diametro raiz D = dedendo, dr = diam. raiz\n",
    "Vc = (pi*ωc/30)*(dpc/2)             #velocidade linear\n",
    "\n",
    "Tp1 = Tent                          #torque\n",
    "Wtp1 = Tp1/(dpp/2)                  #carga transmitida\n",
    "Wrp1 = Wtp1*tan(radians(theta))\n",
    "Wp1 = Wtp1/cos(radians(theta))\n",
    "\n",
    "Tc1 = Tp1*mg2                        #torque\n",
    "Wtc1 = Tc1/(dpc/2)                   #carga transmitida\n",
    "Wrc1 = Wtc1*tan(radians(theta))\n",
    "Wc1 = Wtc1/cos(radians(theta))\n",
    "\n",
    "Tp2 = Tc1                           #torque\n",
    "Wtp2 = Tp1/(dpp/2)                  #carga transmitida\n",
    "Wrp2 = Wtp2*tan(radians(theta))\n",
    "Wp2 = Wtp2/cos(radians(theta))\n",
    "\n",
    "Tc2 = Tp1*mg1                        #torque\n",
    "Wtc2 = Tc2/(dpc/2)                   #carga transmitida\n",
    "Wrc2 = Wtc2*tan(radians(theta))\n",
    "Wc2 = Wtc2/cos(radians(theta))\n",
    "\n",
    "print(\"Torque de saída =\", Tc2)\n",
    "W=sqrt(Wtc2**2+Wrc2**2)\n",
    "print(\"Força da coroa =\", W)\n",
    "R1 = W/2\n",
    "print(\"Força do rolamento 1 =\", R1)\n",
    "R2 = W/2\n",
    "print(\"Força do rolamento 2 =\", R2)"
   ]
  },
  {
   "cell_type": "code",
   "execution_count": 24,
   "metadata": {},
   "outputs": [
    {
     "name": "stdout",
     "output_type": "stream",
     "text": [
      "Cortante 1 = 0.015, 0.025, 0.058 = 16.272722525657105\n",
      "Cortante 2 = 0.096, 0.115 = -16.272722525657105\n",
      "Cortante 3 = 0.125, 0.13 = 0.0\n",
      "Momento fletor em 0.015 = 0.0\n",
      "Momento fletor em 0.025 = 0.16272722525657107\n",
      "Momento fletor em 0.058 = 0.6997270686032556\n",
      "Momento fletor em 0.096 = -1.480817749834797\n",
      "Momento fletor em 0.115 = -0.45563623071839876\n",
      "Momento fletor em 0.125 = -0.08136361262828595\n",
      "Momento fletor em 0.13 = -0.08136361262828551\n"
     ]
    }
   ],
   "source": [
    "# cortante, momento fletor e torque nos pontos críticos\n",
    "\n",
    "print(\"Cortante 1 = 0.015,\", \"0.025,\", \"0.058 =\", R1)\n",
    "print(\"Cortante 2 = 0.096,\", \"0.115 =\", R1 - W)\n",
    "print(\"Cortante 3 = 0.125, 0.13 =\", R1 - W + R2)\n",
    "\n",
    "x = 0.015\n",
    "MB = R1*(x - 0.015)\n",
    "print(\"Momento fletor em 0.015 =\", MB)\n",
    "x = 0.025\n",
    "MC = R1*(x - 0.015)\n",
    "print(\"Momento fletor em 0.025 =\", MC)\n",
    "x = 0.058\n",
    "MD = R1*(x - 0.015)\n",
    "print(\"Momento fletor em 0.058 =\", MD)\n",
    "x = 0.096\n",
    "ME = R1*(x-0.015) - W*(x-0.01)\n",
    "print(\"Momento fletor em 0.096 =\", ME)\n",
    "x = 0.115\n",
    "MF = R1*(x-0.015) - W*(x-0.051)\n",
    "print(\"Momento fletor em 0.115 =\", MF)\n",
    "x=0.125\n",
    "MG = R1*(x-0.015) + R2*(x-0.092) - W*(x-0.051)\n",
    "print(\"Momento fletor em 0.125 =\", MG)\n",
    "x=0.135\n",
    "MH = R1*(x-0.015) + R2*(x-0.092) - W*(x-0.051)\n",
    "print(\"Momento fletor em 0.13 =\", MH)"
   ]
  },
  {
   "cell_type": "code",
   "execution_count": 25,
   "metadata": {},
   "outputs": [
    {
     "name": "stdout",
     "output_type": "stream",
     "text": [
      "Sei = 282.5\n",
      "Se = 228.82500000000002\n"
     ]
    }
   ],
   "source": [
    "# material e suas propriedades - escolhido aço  SAE 1045\n",
    "Sut = 565        #Mpa > kpsi\n",
    "Sy = 310         #Mpa > kpsi\n",
    "\n",
    "Sei = Sut*0.5\n",
    "print(\"Sei =\", Sei)\n",
    "Ccarreg = 1             #(Flexão e torção)\n",
    "Ctamanho = 1            #(como não sabe o tamanho da peça adotado 1,0)\n",
    "Csuperf = 0.81          #(usinado)\n",
    "Ctemp = 1               #(Temperatura baixa)\n",
    "Cconf = 1               #(50%)\n",
    "\n",
    "Se = Ccarreg*Ctamanho*Csuperf*Ctemp*Cconf*Sei\n",
    "print(\"Se =\", Se)"
   ]
  },
  {
   "cell_type": "code",
   "execution_count": 26,
   "metadata": {},
   "outputs": [],
   "source": [
    "Sut = 565        #Mpa > kpsi\n",
    "Sy = 310         #Mpa > kpsi"
   ]
  },
  {
   "cell_type": "code",
   "execution_count": 27,
   "metadata": {},
   "outputs": [
    {
     "name": "stdout",
     "output_type": "stream",
     "text": [
      "Ponto crítico B, E F e G\n",
      "qt flexão =  0.65242211710977\n",
      "kf = 1.848148752242701\n",
      "qt torção =  0.5583472920156337\n",
      "kf = 1.5583472920156338\n",
      "kfsm 1.5583472920156338\n",
      "diametro do ponto B = 0.0\n",
      "kfsm 1.5583472920156338\n",
      "diametro do ponto E = 0.5258875278643043\n",
      "kfsm 1.5583472920156338\n",
      "diametro do ponto F = 0.1916476497854513\n",
      "kfsm 1.5583472920156338\n",
      "diametro do ponto G = 0.15092242400240527\n"
     ]
    }
   ],
   "source": [
    "print(\"Ponto crítico B, E F e G\")\n",
    "\n",
    "a = 0.10655                          #raiz a\n",
    "r = 0.04                             # em pol (in)\n",
    "qt = 1/(1+(a/sqrt(r)))               #sensibilidade ao entalhe flexão\n",
    "print(\"qt flexão = \", qt)\n",
    "kt = 2.3                             #fator de concentrações de tensões teórico estático - flexão\n",
    "kf = 1+(qt*(kt-1))                   #fator de concentrações de tensões em fagiga dinâmico - flexão\n",
    "print(\"kf =\", kf)\n",
    "\n",
    "a = 0.0791                           #raiz a\n",
    "r = 0.01                             # em pol (in)\n",
    "qt = 1/(1+(a/sqrt(r)))               #sensibilidade ao entalhe torção\n",
    "print(\"qt torção = \", qt)\n",
    "kts = 2                              #fator de concentrações de tensões teórico estático - torção\n",
    "kf = 1+(qt*(kts-1))                  #fator de concentrações de tensões em fagiga dinâmico - torção\n",
    "print(\"kf =\", kf)\n",
    "\n",
    "#diametro das seções mais solicitadas\n",
    "\n",
    "kfs = 1 + qt*(kts-1)\n",
    "kfsm = kfs\n",
    "Nf = 2.5\n",
    "Ma = MB\n",
    "Sf = Se\n",
    "Tm = 0\n",
    "print(\"kfsm\", kfsm)\n",
    "d = (((32*Nf)/pi)*((kfsm*(Ma/Sf))**2+((3/4)*(kfsm*(Tm/Sy)))**2)**(1/2)**(1/3))*25.4\n",
    "print(\"diametro do ponto B =\", d)\n",
    "\n",
    "#diametro das seções mais solicitadas\n",
    "\n",
    "kfs = 1 + qt*(kts-1)\n",
    "kfsm = kfs\n",
    "Nf = 2.5\n",
    "Ma = ME\n",
    "Sf = Se\n",
    "Tm = Tp1*0.001*5.7101\n",
    "print(\"kfsm\", kfsm)\n",
    "d = (((32*Nf)/pi)*((kfsm*(Ma/Sf))**2+((3/4)*(kfsm*(Tm/Sy)))**2)**(1/2)**(1/3))*25.4\n",
    "print(\"diametro do ponto E =\", d)\n",
    "\n",
    "#diametro das seções mais solicitadas\n",
    "\n",
    "kfs = 1 + qt*(kts-1)\n",
    "kfsm = kfs\n",
    "Nf = 2.5\n",
    "Ma = MF\n",
    "Sf = Se\n",
    "Tm = Tp1*0.001*5.7101\n",
    "print(\"kfsm\", kfsm)\n",
    "d = (((32*Nf)/pi)*((kfsm*(Ma/Sf))**2+((3/4)*(kfsm*(Tm/Sy)))**2)**(1/2)**(1/3))*25.4\n",
    "print(\"diametro do ponto F =\", d)\n",
    "\n",
    "\n",
    "#diametro das seções mais solicitadas\n",
    "\n",
    "kfs = 1 + qt*(kts-1)\n",
    "kfsm = kfs\n",
    "Nf = 2.5\n",
    "Ma = MG\n",
    "Sf = Se\n",
    "Tm = Tp1*0.001*5.7101\n",
    "print(\"kfsm\", kfsm)\n",
    "d = (((32*Nf)/pi)*((kfsm*(Ma/Sf))**2+((3/4)*(kfsm*(Tm/Sy)))**2)**(1/2)**(1/3))*25.4\n",
    "print(\"diametro do ponto G =\", d)"
   ]
  },
  {
   "cell_type": "code",
   "execution_count": 28,
   "metadata": {},
   "outputs": [
    {
     "name": "stdout",
     "output_type": "stream",
     "text": [
      "Ponto crítico D\n",
      "qt flexão =  0.4841442749939482\n",
      "kf = 1.6051803437424352\n",
      "qt torção =  0.5583472920156337\n",
      "kf = 1.6051803437424352\n",
      "kfsm 2.1166945840312676\n",
      "diametro do ponto D = 0.39883831804158215\n"
     ]
    }
   ],
   "source": [
    "print(\"Ponto crítico D\")\n",
    "\n",
    "a = 0.10655                         #raiz a\n",
    "r = 0.01                            # em pol (in)\n",
    "qt = 1/(1+(a/sqrt(r)))              #sensibilidade ao entalhe flexão\n",
    "print(\"qt flexão = \", qt)\n",
    "kt = 2.25                            #fator de concentrações de tensões teórico estático - flexão\n",
    "kf = 1+(qt*(kt-1))                  #fator de concentrações de tensões em fagiga dinâmico - flexão\n",
    "print(\"kf =\", kf)\n",
    "\n",
    "a = 0.0791                         #raiz a\n",
    "r = 0.01                            # em pol (in)\n",
    "qt = 1/(1+(a/sqrt(r)))              #sensibilidade ao entalhe torção\n",
    "print(\"qt torção = \", qt)\n",
    "kts = 3                            #fator de concentrações de tensões teórico estático - torção\n",
    "kfs = 1+(qt*(kts-1))                  #fator de concentrações de tensões em fagiga dinâmico - torção\n",
    "print(\"kf =\", kf)\n",
    "\n",
    "#diametro das seções mais solicitadas\n",
    "\n",
    "kfs = 1 + qt*(kts-1)\n",
    "kfsm = kfs\n",
    "Nf = 2.5\n",
    "Ma = MD\n",
    "Sf = Se\n",
    "Tm = Tp1*0.001*5.7101\n",
    "print(\"kfsm\", kfsm)\n",
    "d = (((32*Nf)/pi)*((kfsm*(Ma/Sf))**2+((3/4)*(kfsm*(Tm/Sy)))**2)**(1/2)**(1/3))*25.4\n",
    "print(\"diametro do ponto D =\", d)"
   ]
  },
  {
   "cell_type": "code",
   "execution_count": 29,
   "metadata": {},
   "outputs": [],
   "source": [
    "d = 30                   #mm\n",
    "b = 12*0.001\n",
    "h = 8*0.001\n",
    "t1 = 5*0.001\n",
    "t2 = 3.3*0.001\n",
    "T = 3899.2961              #N.m\n",
    "fs = 1.1"
   ]
  },
  {
   "cell_type": "code",
   "execution_count": 30,
   "metadata": {},
   "outputs": [
    {
     "name": "stdout",
     "output_type": "stream",
     "text": [
      "força cisalhante = 259.95307333333335\n",
      "comprimento da chaveta = 13.313901173567547\n",
      "dimensionamento para falha por esmagamento = 30.74713770609319\n",
      "componentes do torque = 481.59444060884584\n",
      "componentes da força cisalhante = 32.106296040589726\n",
      "componentes da tensão cisalhamento = 87.01703214211489\n",
      "tensão de von misses: 𝜎a = 150.71792079399702\n",
      "Diagrama de Goodman modificado = 1.0805932554356257\n",
      "carga elástica = 696.1362571369191\n",
      "fator de segurança para carregamento estático = 0.44531511873117086\n",
      "As dimensões da chaveta foram selecionadas:\n",
      "Comprimento da chaveta: 30.74713770609319 \n",
      "Altura da chaveta: 8.0 \n",
      "Largura da chaveta: 12.0\n"
     ]
    }
   ],
   "source": [
    "F = (2*T)/d\n",
    "print(\"força cisalhante =\", F)\n",
    "\n",
    "L = (fs*F*sqrt(3))/(Sy*b*10)\n",
    "print(\"comprimento da chaveta =\", L)\n",
    "\n",
    "L = (fs*F)/((h-t1)*Sy*10)\n",
    "print(\"dimensionamento para falha por esmagamento =\", L)\n",
    "\n",
    "Tmax = Tp2\n",
    "Ta = Tmax/2\n",
    "print(\"componentes do torque =\", Ta)\n",
    "\n",
    "Fa = Ta/(d/2)\n",
    "print(\"componentes da força cisalhante =\", Fa)\n",
    "Fm = Fa\n",
    "\n",
    "𝜏a = (Fa)/(b*L)                #MPa\n",
    "print(\"componentes da tensão cisalhamento =\", 𝜏a)\n",
    "\n",
    "𝜎a = sqrt(3)*𝜏a\n",
    "print(\"tensão de von misses: 𝜎a =\", 𝜎a)\n",
    "\n",
    "𝜎m = 𝜎a\n",
    "Se = Ccarreg*Ctamanho*Csuperf*Ctemp*Cconf*Sei\n",
    "N = 1/((𝜎a/Se)+(𝜎m/Sut))\n",
    "print(\"Diagrama de Goodman modificado =\", N)\n",
    "\n",
    "Aesm = L*(h-t1)\n",
    "𝜎max = (Fm + Fa)/Aesm\n",
    "print(\"carga elástica =\", 𝜎max)\n",
    "\n",
    "fsel = Sy/𝜎max\n",
    "print(\"fator de segurança para carregamento estático =\", fsel)\n",
    "\n",
    "print(\"As dimensões da chaveta foram selecionadas:\\nComprimento da chaveta:\", L,\"\\nAltura da chaveta:\", h*1000, \"\\nLargura da chaveta:\", b*1000)"
   ]
  }
 ],
 "metadata": {
  "kernelspec": {
   "display_name": "Python 3.10.7 64-bit",
   "language": "python",
   "name": "python3"
  },
  "language_info": {
   "codemirror_mode": {
    "name": "ipython",
    "version": 3
   },
   "file_extension": ".py",
   "mimetype": "text/x-python",
   "name": "python",
   "nbconvert_exporter": "python",
   "pygments_lexer": "ipython3",
   "version": "3.10.7"
  },
  "orig_nbformat": 4,
  "vscode": {
   "interpreter": {
    "hash": "1cea4506632fe95fa0a52c6706177ad7ab5386cc316bf87ad8dd5966739875d1"
   }
  }
 },
 "nbformat": 4,
 "nbformat_minor": 2
}
