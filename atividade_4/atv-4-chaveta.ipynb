{
 "cells": [
  {
   "cell_type": "code",
   "execution_count": 119,
   "metadata": {},
   "outputs": [],
   "source": [
    "import pandas as pd\n",
    "from numpy import sqrt, pi, tan, radians, cos"
   ]
  },
  {
   "cell_type": "markdown",
   "metadata": {},
   "source": [
    "a) Selecionar as chavetas apropriadas para o eixo (sob a engrenagem e ponta de eixo) e dimensioná-las."
   ]
  },
  {
   "cell_type": "code",
   "execution_count": 120,
   "metadata": {},
   "outputs": [
    {
     "name": "stdout",
     "output_type": "stream",
     "text": [
      "Sei = 210.0\n"
     ]
    }
   ],
   "source": [
    "# material e suas propriedades - escolhido aço  SAE 1020\n",
    "Sut = 420           #Mpa\n",
    "Sy = 350            #Mpa\n",
    "Sei = Sut*0.5\n",
    "print(\"Sei =\", Sei)\n",
    "Ccarreg = 1             #(Flexão e torção)\n",
    "Ctamanho = 1            #(menores que 8 mm)\n",
    "Csuperf = 0.91          #(laminado a frio)\n",
    "Ctemp = 1               #(temperatura ambiente)\n",
    "Cconf = 0.897           #(90%)"
   ]
  },
  {
   "cell_type": "markdown",
   "metadata": {},
   "source": [
    "![alttext](dimensoes.png)"
   ]
  },
  {
   "cell_type": "code",
   "execution_count": 121,
   "metadata": {},
   "outputs": [],
   "source": [
    "d = 175                    #mm\n",
    "b = 45*0.0001\n",
    "h = 25*0.0001\n",
    "t1 = 15*0.0001\n",
    "t2 = 10.5*0.0001\n",
    "T = 3899.2961              #N.m\n",
    "fs = 1.1"
   ]
  },
  {
   "cell_type": "code",
   "execution_count": 122,
   "metadata": {},
   "outputs": [
    {
     "name": "stdout",
     "output_type": "stream",
     "text": [
      "força cisalhante = 44.563384\n"
     ]
    }
   ],
   "source": [
    "F = (2*T)/d\n",
    "print(\"força cisalhante =\", F)"
   ]
  },
  {
   "cell_type": "code",
   "execution_count": 123,
   "metadata": {},
   "outputs": [
    {
     "name": "stdout",
     "output_type": "stream",
     "text": [
      "comprimento da chaveta = 53.90771413950614\n"
     ]
    }
   ],
   "source": [
    "L = (fs*F*sqrt(3))/(Sy*b)\n",
    "print(\"comprimento da chaveta =\", L)"
   ]
  },
  {
   "cell_type": "code",
   "execution_count": 124,
   "metadata": {},
   "outputs": [
    {
     "name": "stdout",
     "output_type": "stream",
     "text": [
      "dimensionamento para falha por esmagamento = 140.05634971428572\n"
     ]
    }
   ],
   "source": [
    "L = (fs*F)/((h-t1)*Sy)\n",
    "print(\"dimensionamento para falha por esmagamento =\", L)"
   ]
  },
  {
   "cell_type": "code",
   "execution_count": 125,
   "metadata": {},
   "outputs": [
    {
     "name": "stdout",
     "output_type": "stream",
     "text": [
      "componentes do torque = 1949.648052875718\n",
      "componentes da força cisalhante = 22.281692032865347\n",
      "componentes da tensão cisalhamento = 35.353535405681576\n",
      "tensão de von misses: 𝜎a = 61.234119549825664\n"
     ]
    }
   ],
   "source": [
    "Tmax = 3899.296105751436\n",
    "Ta = Tmax/2\n",
    "print(\"componentes do torque =\", Ta)\n",
    "\n",
    "Fa = Ta/(d/2)\n",
    "print(\"componentes da força cisalhante =\", Fa)\n",
    "Fm = Fa\n",
    "\n",
    "𝜏a = (Fa)/(b*L)                #MPa\n",
    "print(\"componentes da tensão cisalhamento =\", 𝜏a)\n",
    "\n",
    "𝜎a = sqrt(3)*𝜏a\n",
    "print(\"tensão de von misses: 𝜎a =\", 𝜎a)"
   ]
  },
  {
   "cell_type": "code",
   "execution_count": 126,
   "metadata": {},
   "outputs": [
    {
     "name": "stdout",
     "output_type": "stream",
     "text": [
      "Diagrama de Goodman modificado = 1.9879953264463741\n"
     ]
    }
   ],
   "source": [
    "𝜎m = 𝜎a\n",
    "Se = Ccarreg*Ctamanho*Csuperf*Ctemp*Cconf*Sei\n",
    "N = 1/((𝜎a/Se)+(𝜎m/Sut))\n",
    "print(\"Diagrama de Goodman modificado =\", N)"
   ]
  },
  {
   "cell_type": "code",
   "execution_count": 127,
   "metadata": {},
   "outputs": [
    {
     "name": "stdout",
     "output_type": "stream",
     "text": [
      "carga elástica = 303.03030347727065\n"
     ]
    }
   ],
   "source": [
    "Aesm = L*t2\n",
    "𝜎max = (Fm + Fa)/Aesm\n",
    "print(\"carga elástica =\", 𝜎max)"
   ]
  },
  {
   "cell_type": "code",
   "execution_count": 128,
   "metadata": {},
   "outputs": [
    {
     "name": "stdout",
     "output_type": "stream",
     "text": [
      "fator de segurança para carregamento estático = 1.154999998296383\n"
     ]
    }
   ],
   "source": [
    "fsel = Sy/𝜎max\n",
    "print(\"fator de segurança para carregamento estático =\", fsel)"
   ]
  },
  {
   "cell_type": "code",
   "execution_count": 129,
   "metadata": {},
   "outputs": [
    {
     "name": "stdout",
     "output_type": "stream",
     "text": [
      "As dimensões da chaveta foram selecionadas:\n",
      "Comprimento da chaveta: 140.05634971428572 \n",
      "Altura da chabeta: 2.5 \n",
      "LArgura da chaveta: 4.500000000000001\n"
     ]
    }
   ],
   "source": [
    "print(\"As dimensões da chaveta foram selecionadas:\\nComprimento da chaveta:\", L,\"\\nAltura da chabeta:\", h*1000, \"\\nLArgura da chaveta:\", b*1000)"
   ]
  },
  {
   "cell_type": "markdown",
   "metadata": {},
   "source": [
    "b) Selecionar rolamentos apropriados ao projeto proposto e calcular a vida do rolamento considerando: carregamento radial calculado na atividade 3, um carregamento axial igual a 25% da força tangencial gerada no segundo pinhão do engrenamento, vida mínima de 20.000 horas e probabilidade de falha de 10%;"
   ]
  },
  {
   "cell_type": "code",
   "execution_count": 130,
   "metadata": {},
   "outputs": [],
   "source": [
    "#cálculos referente à atividade 3\n",
    "\n",
    "Pe = 30000                         #W\n",
    "ωp = (1180*2*pi)/60                #rpm  escolhido no motor elétrico (entrada) - rad/s\n",
    "Ps = 29400                         #W  \n",
    "ωc = (72*2*pi)/60                  #rpm (saída) -> rad/s\n",
    "mg1 = (ωp/ωc)\n",
    "mg2 = sqrt(mg1)\n",
    "Nc = 85 \n",
    "Np = 21\n",
    "m = 3     \n",
    "theta = 20  \n",
    "a = m                               #adendo\n",
    "b = 0.25*m                          #dedendo\n",
    "\n",
    "Tent = Ps/ωp                        #torque entrada\n",
    "Tsai = Ps/ωc                        #torque saida\n",
    "\n",
    "dpp = m*Np                          #diâmetro primitivo\n",
    "dep = dpp + a*2                     #diametro externo A = adendo, dp = diam. prim.\n",
    "drp = dpp - 2*b                     #diametro raiz D = dedendo, dr = diam. raiz\n",
    "Vp = (pi*ωp/30)*(dpp/2)             #velocidade linear\n",
    "\n",
    "dpc = m*Nc                          #diâmetro primitivo\n",
    "dec = dpc + a*2                     #diametro externo A = adendo, dp = diam. prim.\n",
    "drc = dpc - 2*b                     #diametro raiz D = dedendo, dr = diam. raiz\n",
    "Vc = (pi*ωc/30)*(dpc/2)             #velocidade linear\n",
    "\n",
    "Tp1 = Tent                          #torque\n",
    "Wtp1 = Tp1/(dpp/2)               \n",
    "Wrp1 = Wtp1*tan(radians(theta))\n",
    "Wp1 = Wtp1/cos(radians(theta))\n",
    "\n",
    "Tc1 = Tp1*mg2                        #torque\n",
    "Wtc1 = Tc1/(dpc/2)                 \n",
    "Wrc1 = Wtc1*tan(radians(theta))\n",
    "Wc1 = Wtc1/cos(radians(theta))\n",
    "\n",
    "Tp2 = Tc1                           #torque\n",
    "Wtp2 = Tp1/(dpp/2)               \n",
    "Wrp2 = Wtp2*tan(radians(theta))\n",
    "Wp2 = Wtp2/cos(radians(theta))\n",
    "\n",
    "Tc2 = Tp1*mg1                        #torque\n",
    "Wtc2 = Tc2/(dpc/2)                  \n",
    "Wrc2 = Wtc2*tan(radians(theta))\n",
    "Wc2 = Wtc2/cos(radians(theta))\n",
    "\n",
    "W=sqrt(Wtc2**2+Wrc2**2)\n",
    "R1 = W/2\n",
    "R2 = W/2"
   ]
  },
  {
   "cell_type": "code",
   "execution_count": 131,
   "metadata": {},
   "outputs": [
    {
     "name": "stdout",
     "output_type": "stream",
     "text": [
      "4.068180631414276 kN\n"
     ]
    }
   ],
   "source": [
    "#carga total no rolamento\n",
    "W = R1*0.25\n",
    "\n",
    "print(W, \"kN\")"
   ]
  },
  {
   "cell_type": "markdown",
   "metadata": {},
   "source": [
    "Escolhido: 6822 ZZ VV DDU > NKF\n",
    "C = 28100\n",
    "C0 = 32500\n",
    "f0 = 17.1\n",
    "72 rpm"
   ]
  },
  {
   "cell_type": "code",
   "execution_count": 132,
   "metadata": {},
   "outputs": [],
   "source": [
    "# O primeiro e o segundo rolamento estará localizado na seção do eixo com diâmetro de 110 mm\n",
    "C = 28100    #carga dinâmica\n",
    "C0 = 32500   #carga estática\n",
    "f0 = 17.1   #fator de cálculo"
   ]
  },
  {
   "cell_type": "code",
   "execution_count": 133,
   "metadata": {},
   "outputs": [
    {
     "name": "stdout",
     "output_type": "stream",
     "text": [
      "0.011723597961907613\n",
      "5.477065561152152\n",
      "mais próximo é e = 0,19, e como 'e' é menor que 5.477065561152152 então: X=0,56 e Y=2,30\n"
     ]
    }
   ],
   "source": [
    "print(f0*Fa/C0)\n",
    "print(Fa/W)\n",
    "\n",
    "print(\"mais próximo é e = 0,19, e como 'e' é menor que\", Fa/W, \"então: X=0,56 e Y=2,30\")"
   ]
  },
  {
   "cell_type": "code",
   "execution_count": 134,
   "metadata": {},
   "outputs": [
    {
     "name": "stdout",
     "output_type": "stream",
     "text": [
      "carga dinâmica equivalente 53.52607282918229\n"
     ]
    }
   ],
   "source": [
    "X = 0.56\n",
    "Y = 2.3\n",
    "P = (X*W) + (Y*Fa)\n",
    "print(\"carga dinâmica equivalente\", P)"
   ]
  },
  {
   "cell_type": "code",
   "execution_count": 135,
   "metadata": {},
   "outputs": [
    {
     "name": "stdout",
     "output_type": "stream",
     "text": [
      "vida em fadiga = 144684769823086.53 ciclos\n",
      "vida em fadiga = 33491844866.455215 horas\n"
     ]
    }
   ],
   "source": [
    "L10 = (10**6)*(C/P)**3\n",
    "print(\"vida em fadiga =\", L10, \"ciclos\")\n",
    "\n",
    "L10H = ((10**6)/(60*72))*(C/P)**3\n",
    "print(\"vida em fadiga =\", L10H, \"horas\")"
   ]
  },
  {
   "cell_type": "code",
   "execution_count": 136,
   "metadata": {},
   "outputs": [],
   "source": [
    "# O segundo rolamento estará sendo superdimensionado pelo primeiro"
   ]
  },
  {
   "cell_type": "markdown",
   "metadata": {},
   "source": [
    "c) Recalcular o fator de segurança do eixo para as concentrações de tensão que irão ocorrer (tanto na chaveta quanto nos rolamentos)."
   ]
  },
  {
   "cell_type": "code",
   "execution_count": 137,
   "metadata": {},
   "outputs": [
    {
     "name": "stdout",
     "output_type": "stream",
     "text": [
      "Nf = 8690.90283286773\n"
     ]
    }
   ],
   "source": [
    "# Constante de Neubar para aços – 60,9 Kpsi (420 MPa)\n",
    "# Esforços de Flexão: √a = 0,10655 in^1⁄2\n",
    "# Constante de Neubar para aços – 80,9 Kpsi\n",
    "# Esforços de Torção: √a = 0,0791 in^1⁄2\n",
    "# da atividade 3\n",
    "d = 0.11*10**3\n",
    "M = 0.1627\n",
    "a = 0.0791                           #raiz a\n",
    "r = 0.01                             # em pol (in)\n",
    "qt = 1/(1+(a/sqrt(r)))               #sensibilidade ao entalhe torção\n",
    "kts = 2                              #fator de concentrações de tensões teórico estático - torção\n",
    "kf = 1+(qt*(kts-1))                  #fator de concentrações de tensões em fagiga dinâmico - torção\n",
    "kfs = 1 + qt*(kts-1)\n",
    "kfsm = kfs\n",
    "\n",
    "Nf = (pi*d**3)/(32*sqrt((kf*M/Se)**2+(3/4)*(kfsm*T/Sy)**2))\n",
    "print(\"Nf =\", Nf)"
   ]
  },
  {
   "cell_type": "markdown",
   "metadata": {},
   "source": [
    "d) Em substituição a chaveta calculada no item a), determinar as tolerâncias de fabricação de forma a gerar a interferência necessária para transmitir o torque entre o eixo e a engrenagem mantendo um fator de segurança mínimo de 1,5."
   ]
  },
  {
   "cell_type": "code",
   "execution_count": 138,
   "metadata": {},
   "outputs": [
    {
     "name": "stdout",
     "output_type": "stream",
     "text": [
      "8.180252583237657 N/mm²\n"
     ]
    }
   ],
   "source": [
    "#Raio externo do eixo\n",
    "ree = 110   #mm\n",
    "#Raio interno do eixo\n",
    "ri = 0\n",
    "#Material: Aço SAE 1020 > eixo\n",
    "Ei = 190 #GPa\n",
    "vi = 0.29\n",
    "Sy = 350 #MPa\n",
    "\n",
    "#Raio externo do cubo\n",
    "r0 = 140\n",
    "#Raio interno do cubo\n",
    "r = 110\n",
    "#Material: Aço SAE 1045 > cubo \n",
    "E0 = 190 #GPa\n",
    "v0 = 0.29\n",
    "Sut = 585 #MPa\n",
    "\n",
    "L = 12*3\n",
    " \n",
    "#Interferência diametral total\n",
    "delta = 55\n",
    "\n",
    "#Coeficiente de atrito entre o cubo e o eixo\n",
    "mi = 0.14\n",
    "\n",
    "p = (0.5*delta)/((r/E0)*((r0**2+r**2)/(r0**2-r**2)+v0)+((r/Ei)*((r**2-ri**2)/(r**2-ri**2)+vi)))\n",
    "print(p, \"N/mm²\")"
   ]
  },
  {
   "cell_type": "code",
   "execution_count": 139,
   "metadata": {},
   "outputs": [
    {
     "name": "stdout",
     "output_type": "stream",
     "text": [
      "3134458.244555579 Nm\n"
     ]
    }
   ],
   "source": [
    "T = 2*pi*mi*p*L*r**2\n",
    "print(T, \"Nm\")"
   ]
  },
  {
   "cell_type": "code",
   "execution_count": 140,
   "metadata": {},
   "outputs": [
    {
     "name": "stdout",
     "output_type": "stream",
     "text": [
      "-8.180252583237657 N/m²\n"
     ]
    }
   ],
   "source": [
    "# tensões tangenciais: do eixo\n",
    "𝜎t = -p*((r**2+ri**2)/(r**2-ri**2))\n",
    "print(𝜎t, \"N/m²\")"
   ]
  },
  {
   "cell_type": "code",
   "execution_count": 141,
   "metadata": {},
   "outputs": [
    {
     "name": "stdout",
     "output_type": "stream",
     "text": [
      "34.5752009184845 N/m²\n"
     ]
    }
   ],
   "source": [
    "# tensões tangenciais: do cubo\n",
    "𝜎tc = p*((r0**2+r**2)/(r0**2-r**2))\n",
    "print(𝜎tc, \"N/m²\")"
   ]
  },
  {
   "cell_type": "code",
   "execution_count": 142,
   "metadata": {},
   "outputs": [],
   "source": [
    "# tensão radial do eixo\n",
    "𝜎re = -p\n",
    "# tensão radial do cubo\n",
    "𝜎rc = -p"
   ]
  },
  {
   "cell_type": "code",
   "execution_count": 143,
   "metadata": {},
   "outputs": [
    {
     "name": "stdout",
     "output_type": "stream",
     "text": [
      "0.16363636363636364\n"
     ]
    }
   ],
   "source": [
    "#fator de concentração de tensão\n",
    "L/(2*r)\n",
    "print(L/(2*r))"
   ]
  }
 ],
 "metadata": {
  "kernelspec": {
   "display_name": "Python 3.10.7 64-bit",
   "language": "python",
   "name": "python3"
  },
  "language_info": {
   "codemirror_mode": {
    "name": "ipython",
    "version": 3
   },
   "file_extension": ".py",
   "mimetype": "text/x-python",
   "name": "python",
   "nbconvert_exporter": "python",
   "pygments_lexer": "ipython3",
   "version": "3.10.7"
  },
  "orig_nbformat": 4,
  "vscode": {
   "interpreter": {
    "hash": "1cea4506632fe95fa0a52c6706177ad7ab5386cc316bf87ad8dd5966739875d1"
   }
  }
 },
 "nbformat": 4,
 "nbformat_minor": 2
}
