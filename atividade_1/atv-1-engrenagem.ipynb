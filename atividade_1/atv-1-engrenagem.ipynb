{
 "cells": [
  {
   "cell_type": "code",
   "execution_count": 74,
   "metadata": {},
   "outputs": [],
   "source": [
    "from numpy import sqrt, sin, cos, tan, radians, pi, sqrt, interp\n",
    "import pandas as pd"
   ]
  },
  {
   "cell_type": "code",
   "execution_count": 75,
   "metadata": {},
   "outputs": [
    {
     "name": "stdout",
     "output_type": "stream",
     "text": [
      "ωp 123.56931104119853 ωc 7.5398223686155035\n",
      "mg intermed 16.38888888888889\n",
      "mg entrada e saida 4.0483192671637065\n"
     ]
    }
   ],
   "source": [
    "Pe = 30000                      #W\n",
    "ωp = (1180*2*pi)/60                #rpm  escolhido no motor elétrico (entrada) - rad/s\n",
    "Ps = 29400                      #W  \n",
    "ωc = (72*2*pi)/60                  #rpm (saída) -> rad/s\n",
    "print(\"ωp\", ωp, \"ωc\", ωc)\n",
    "\n",
    "mg1 = (ωp/ωc)\n",
    "print(\"mg intermed\", mg1)\n",
    "mg2 = sqrt(mg1)\n",
    "print(\"mg entrada e saida\",mg2)\n",
    "\n",
    "Tent = Ps/ωp  #torque entrada\n",
    "Tsai = Ps/ωc  #torque saida"
   ]
  },
  {
   "cell_type": "code",
   "execution_count": 76,
   "metadata": {},
   "outputs": [
    {
     "name": "stdout",
     "output_type": "stream",
     "text": [
      "pinhão 21 coroa 85.01470461043783\n",
      "pinhão 22 coroa 89.06302387760154\n",
      "pinhão 23 coroa 93.11134314476524\n",
      "pinhão 24 coroa 97.15966241192896\n",
      "pinhão 25 coroa 101.20798167909267\n",
      "pinhão 26 coroa 105.25630094625637\n",
      "pinhão 27 coroa 109.30462021342008\n",
      "pinhão 28 coroa 113.35293948058379\n",
      "pinhão 29 coroa 117.40125874774749\n"
     ]
    }
   ],
   "source": [
    "k = 1\n",
    "Np = 21 #adotar o número de dentes do pinhão\n",
    "\n",
    "for k in range(1, 10):\n",
    "  Nc = mg2*Np\n",
    "  print(\"pinhão\", Np, \"coroa\", Nc)\n",
    "  Np+=1\n",
    "  k=+1"
   ]
  },
  {
   "cell_type": "code",
   "execution_count": 77,
   "metadata": {},
   "outputs": [],
   "source": [
    "Nc = 85 #mais exato escolhido\n",
    "Np = 21"
   ]
  },
  {
   "cell_type": "code",
   "execution_count": 78,
   "metadata": {},
   "outputs": [
    {
     "name": "stdout",
     "output_type": "stream",
     "text": [
      "passp diametral 0.3333333333333333\n",
      "a = 3 b = 0.75 pc = 9.42477796076938 pb = 8.856394302280648 pd = 0.3333333333333333 Fc = 36 Fp = 45\n"
     ]
    }
   ],
   "source": [
    "m = 3  #adotado\n",
    "pd = 1/m\n",
    "theta = 20   \n",
    "print(\"passp diametral\", pd)\n",
    "\n",
    "a = m                           #adendo\n",
    "b = 0.25*m                      #dedendo\n",
    "pc = pi*m                       #passo circular\n",
    "pb = pc*cos(radians(theta))     #passo de base\n",
    "Fc = 12*m                        #largura da face 6 a 16*m  \n",
    "Fp = 15*m\n",
    "\n",
    "print(\"a =\", a, \"b =\", b, \"pc =\", pc, \"pb =\", pb, \"pd =\", pd, \"Fc =\", Fc,  \"Fp =\", Fp)"
   ]
  },
  {
   "cell_type": "code",
   "execution_count": 79,
   "metadata": {},
   "outputs": [
    {
     "name": "stdout",
     "output_type": "stream",
     "text": [
      "Diâmetro primitivo do pinhão = 63 Diâmetro externo do pinhão = 69 Diâmetro raiz do pinhão = 61.5 Velocidade linear do pinhão 407.6146617649905\n",
      "239.62161830040665 Diâmetro primitivo da coroa = 255 Diâmetro externo da coroa = 261 Diâmetro raiz da coroa = 253.5 Velocidade linear da coroa 100.66996489111145\n"
     ]
    }
   ],
   "source": [
    "\"\"\"*pinhão*\"\"\"\n",
    "\n",
    "dpp = m*Np               #diâmetro primitivo\n",
    "dep = dpp + a*2          #diametro externo A = adendo, dp = diam. prim.\n",
    "drp = dpp - 2*b          #diametro raiz D = dedendo, dr = diam. raiz\n",
    "Vp = (pi*ωp/30)*(dpp/2)  #velocidade linear\n",
    "print(\"Diâmetro primitivo do pinhão =\", dpp, \"Diâmetro externo do pinhão =\", dep, \"Diâmetro raiz do pinhão =\", drp, \"Velocidade linear do pinhão\", Vp)\n",
    "\n",
    "\"\"\"*coroa*\"\"\"\n",
    "\n",
    "dpc = m*Nc               #diâmetro primitivo\n",
    "dec = dpc + a*2          #diametro externo A = adendo, dp = diam. prim.\n",
    "drc = dpc - 2*b          #diametro raiz D = dedendo, dr = diam. raiz\n",
    "dbc = dpc*cos(radians(theta))\n",
    "Vc = (pi*ωc/30)*(dpc/2)  #velocidade linear\n",
    "print(dbc, \"Diâmetro primitivo da coroa =\", dpc, \"Diâmetro externo da coroa =\", dec, \"Diâmetro raiz da coroa =\", drc, \"Velocidade linear da coroa\", Vc)"
   ]
  },
  {
   "cell_type": "code",
   "execution_count": 80,
   "metadata": {},
   "outputs": [
    {
     "name": "stdout",
     "output_type": "stream",
     "text": [
      "Distância entre centros = 159.0\n",
      "Comprimento de ação = 15.067246973846267\n",
      "1.7012845701739177\n"
     ]
    }
   ],
   "source": [
    "C = dpc/2 + dpp/2\n",
    "print(\"Distância entre centros =\", C)\n",
    "\n",
    "Z = sqrt(((dpp/2)+(a))**2 - ((dpp/2)*cos(radians(theta)))**2) + sqrt(((dpc/2)+(a))**2 - ((dpc/2)*cos(radians(theta)))**2) - C*sin(radians(theta))\n",
    "print(\"Comprimento de ação =\", Z)\n",
    "\n",
    "mp = Z/pb\n",
    "print(mp)"
   ]
  },
  {
   "cell_type": "code",
   "execution_count": 81,
   "metadata": {},
   "outputs": [
    {
     "name": "stdout",
     "output_type": "stream",
     "text": [
      "*pinhão 1*\n",
      "Torque = 237.92315221534184 Carga Tangencial = 7.553115943344186 Carga Radial = 2.7491093793387713 Carga Resultante = 8.037858099840314\n",
      "*coroa 1*\n",
      "Torque = 963.1888812176917 Carga Tangencial = 7.554422597785817 Carga Radial = 2.749584962661997 Carga Resultante = 8.039248612453404\n",
      "*pinhão 2*\n",
      "Torque = 963.1888812176917 Carga Tangencial = 7.553115943344186 Carga Radial = 2.7491093793387713 Carga Resultante = 8.037858099840314\n",
      "*coroa 2*\n",
      "Torque = 3899.296105751436 Carga Tangencial = 30.58271455491322 Carga Radial = 11.131197781048161 Carga Resultante = 32.5454450513142\n"
     ]
    }
   ],
   "source": [
    "print('*pinhão 1*')\n",
    "\n",
    "Tp1 = Tent             #torque\n",
    "Wtp1 = Tp1/(dpp/2)     #carga transmitida\n",
    "Wrp1 = Wtp1*tan(radians(theta))\n",
    "Wp1 = Wtp1/cos(radians(theta))\n",
    "print (\"Torque =\", Tp1, \"Carga Tangencial =\", Wtp1, \"Carga Radial =\", Wrp1, \"Carga Resultante =\", Wp1)\n",
    "\n",
    "print('*coroa 1*')\n",
    "\n",
    "Tc1 = Tp1*mg2            #torque\n",
    "Wtc1 = Tc1/(dpc/2) #carga transmitida\n",
    "Wrc1 = Wtc1*tan(radians(theta))\n",
    "Wc1 = Wtc1/cos(radians(theta))\n",
    "print (\"Torque =\", Tc1, \"Carga Tangencial =\", Wtc1, \"Carga Radial =\", Wrc1, \"Carga Resultante =\", Wc1)\n",
    "\n",
    "print('*pinhão 2*')\n",
    "\n",
    "Tp2 = Tc1             #torque\n",
    "Wtp2 = Tp1/(dpp/2) #carga transmitida\n",
    "Wrp2 = Wtp2*tan(radians(theta))\n",
    "Wp2 = Wtp2/cos(radians(theta))\n",
    "print (\"Torque =\", Tp2, \"Carga Tangencial =\", Wtp2, \"Carga Radial =\", Wrp2, \"Carga Resultante =\", Wp2)\n",
    "\n",
    "print('*coroa 2*')\n",
    "\n",
    "Tc2 = Tp1*mg1            #torque\n",
    "Wtc2 = Tc2/(dpc/2)      #carga transmitida\n",
    "Wrc2 = Wtc2*tan(radians(theta))\n",
    "Wc2 = Wtc2/cos(radians(theta))\n",
    "print (\"Torque =\", Tc2, \"Carga Tangencial =\", Wtc2, \"Carga Radial =\", Wrc2, \"Carga Resultante =\", Wc2)"
   ]
  },
  {
   "cell_type": "code",
   "execution_count": 82,
   "metadata": {},
   "outputs": [
    {
     "name": "stdout",
     "output_type": "stream",
     "text": [
      "Forças Alternadas no par 1 = 3.776557971672093 Forças Alternadas no par 2 = 3.776557971672093\n",
      "8.037858099840314\n"
     ]
    }
   ],
   "source": [
    "Wm1 = Wtp1/2\n",
    "Wm2 = Wtp2/2\n",
    "\n",
    "print(\"Forças Alternadas no par 1 =\", Wm1, \"Forças Alternadas no par 2 =\", Wm2)\n",
    "\n",
    "Wtotal = Wtp1/cos(radians(theta))\n",
    "print(Wtotal)"
   ]
  },
  {
   "cell_type": "code",
   "execution_count": 83,
   "metadata": {},
   "outputs": [
    {
     "name": "stdout",
     "output_type": "stream",
     "text": [
      "Vt = 0.9616599912206215 m/s\n"
     ]
    }
   ],
   "source": [
    "Jc = 0.42 #fator geométrico de resistência a flexão\n",
    "Jp = 0.33 #fator geométrico de resistência a flexão\n",
    "\n",
    "Ka = 1.25                             #motor elétrico\n",
    "Km = 1.6\n",
    "Ks = 1\n",
    "Kb = 1\n",
    "Kl = 1                            #1 p/ pinhão ou coroa e 1,42 para intermediária\n",
    "Vt = (dpp/2000)*ωp*(dpp/dpc)\n",
    "print(\"Vt =\", Vt, \"m/s\")"
   ]
  },
  {
   "cell_type": "code",
   "execution_count": 84,
   "metadata": {},
   "outputs": [
    {
     "name": "stdout",
     "output_type": "stream",
     "text": [
      "σbc 383.61914256637067\n",
      "σbp 390.5264767769107\n"
     ]
    }
   ],
   "source": [
    "Qv = 7       #assumindo indice de qualidade 7\n",
    "Bx = ((12-Qv)**(2/3))/4\n",
    "Ax = 50 + (56*(1-Bx))\n",
    "Kv = ( Ax / (Ax + sqrt(200*Vt)))**(Bx)\n",
    "Ax, Bx, Kv\n",
    "\n",
    "σbc = ((Wtc1*Ka*Km*Ks*Kb*Kl)/(Fc*Jc*Kv*m))*10**3 #tensão de flexão\n",
    "print(\"σbc\", σbc)\n",
    "σbp = ((Wtp1*Ka*Km*Ks*Kb*Kl)/(Fp*Jp*Kv*m))*10**3 #tensão de flexão\n",
    "print(\"σbp\", σbp)"
   ]
  },
  {
   "cell_type": "code",
   "execution_count": 85,
   "metadata": {},
   "outputs": [
    {
     "name": "stdout",
     "output_type": "stream",
     "text": [
      "8.865659773294137 45.51554301548718 0.11067951497498436\n"
     ]
    }
   ],
   "source": [
    "rpp = dpp/2\n",
    "\n",
    "rhop = sqrt((rpp + m)**2 - ((rpp)*cos(radians(theta)))**2)  - (pi*m)*cos(radians(theta))\n",
    "\n",
    "rhoc = (C*sin(radians(theta))) - rhop\n",
    "\n",
    "I = (cos(radians(theta)))/(((1/rhop)+(1/rhoc))*dpp)       #fator geométrico da superfície\n",
    "print(rhop, rhoc, I)"
   ]
  },
  {
   "cell_type": "code",
   "execution_count": 86,
   "metadata": {},
   "outputs": [
    {
     "name": "stdout",
     "output_type": "stream",
     "text": [
      "5876.974828622462\n",
      "1383.8619591742838\n"
     ]
    }
   ],
   "source": [
    "Ca = Ka\n",
    "Cv = Kv\n",
    "Cm = Km\n",
    "Cs = Ks\n",
    "Cf = 1\n",
    "\n",
    "vp = 0.28\n",
    "Ep = 200*10**6\n",
    "vc = 0.28\n",
    "Ec = 200*10**6\n",
    "\n",
    "Cp = sqrt(1/(pi*(((1-(vp)**2)/Ep)+(((1-(vc)**2)/Ec)))))\n",
    "print(Cp)\n",
    "\n",
    "σcp = Cp*sqrt((Wtp1*Ca*Cm*Cs*Cf)/((Fp)*I*(dpp)*Cv))     #resistência a crateração AGMA\n",
    "print(σcp)"
   ]
  },
  {
   "cell_type": "code",
   "execution_count": 87,
   "metadata": {},
   "outputs": [
    {
     "name": "stdout",
     "output_type": "stream",
     "text": [
      "616858000.717663\n",
      "Kl 0.9456497955054102\n",
      "1\n",
      "KL 0.9456497955054102 Sfci 450 Kt 1 Kr 0.85\n",
      "500.638127032276\n"
     ]
    }
   ],
   "source": [
    "Tamb = 20\n",
    "Temp = (9*Tamb)/5 + 32\n",
    "\n",
    "N = ωp*60*16*5*52*20\n",
    "print(N)\n",
    "\n",
    "Kl = 1.3558*N**(-0.0178)\n",
    "print(\"Kl\", Kl)\n",
    "\n",
    "if Temp>250:\n",
    "  Kt = (460+Tamb)/620\n",
    "else:\n",
    "  Kt = 1\n",
    "print(Kt)\n",
    "Kr = 0.85\n",
    "\n",
    "Sfci = 450\n",
    "print(\"KL\", Kl, \"Sfci\", Sfci, \"Kt\", Kt, \"Kr\", Kr)\n",
    "Syi = (Kl*Sfci)/(Kt*Kr)         #desgaste superficial\n",
    "print(Syi)"
   ]
  },
  {
   "cell_type": "code",
   "execution_count": 88,
   "metadata": {},
   "outputs": [
    {
     "name": "stdout",
     "output_type": "stream",
     "text": [
      "588.9860318026776\n",
      "1.5353405668508215\n",
      "1.5081846349156436\n"
     ]
    }
   ],
   "source": [
    "Cl = 1\n",
    "A = 0 #considerando a mesma dureza da coroa e pinhao\n",
    "Ch = 1\n",
    "Ct = Kt\n",
    "Cr = Kr\n",
    "\n",
    "Sy = (Cl*Ch*Syi)/(Ct*Cr)         #resistência a fadiga a flexão\n",
    "print(Sy)\n",
    "\n",
    "coefsc = Sy/σbc\n",
    "print(coefsc)\n",
    "\n",
    "coefsp = Sy/σbp\n",
    "print(coefsp)"
   ]
  }
 ],
 "metadata": {
  "kernelspec": {
   "display_name": "Python 3.10.7 64-bit",
   "language": "python",
   "name": "python3"
  },
  "language_info": {
   "codemirror_mode": {
    "name": "ipython",
    "version": 3
   },
   "file_extension": ".py",
   "mimetype": "text/x-python",
   "name": "python",
   "nbconvert_exporter": "python",
   "pygments_lexer": "ipython3",
   "version": "3.10.7"
  },
  "orig_nbformat": 4,
  "vscode": {
   "interpreter": {
    "hash": "1cea4506632fe95fa0a52c6706177ad7ab5386cc316bf87ad8dd5966739875d1"
   }
  }
 },
 "nbformat": 4,
 "nbformat_minor": 2
}
